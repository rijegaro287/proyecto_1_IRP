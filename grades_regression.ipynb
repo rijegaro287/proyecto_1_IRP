{
 "cells": [
  {
   "cell_type": "code",
   "execution_count": 245,
   "metadata": {},
   "outputs": [],
   "source": [
    "from algorithms.linear_regression import LinearRegression\n",
    "\n",
    "import numpy as np\n",
    "import pandas as pd\n",
    "\n",
    "from sklearn.model_selection import train_test_split\n",
    "from hyperopt import fmin, tpe, hp, Trials, STATUS_OK"
   ]
  },
  {
   "cell_type": "code",
   "execution_count": 246,
   "metadata": {},
   "outputs": [],
   "source": [
    "def standarize(original_df):\n",
    "    return (original_df - original_df.mean())/original_df.std()\n",
    "\n",
    "def destandarize(standarized_df, original_df):\n",
    "    return standarized_df*original_df.std() + original_df.mean()"
   ]
  },
  {
   "attachments": {},
   "cell_type": "markdown",
   "metadata": {},
   "source": [
    "# Predicción de notas de estudiantes de Arquitectura en Computadores I"
   ]
  },
  {
   "cell_type": "code",
   "execution_count": 247,
   "metadata": {},
   "outputs": [
    {
     "data": {
      "text/html": [
       "<div>\n",
       "<style scoped>\n",
       "    .dataframe tbody tr th:only-of-type {\n",
       "        vertical-align: middle;\n",
       "    }\n",
       "\n",
       "    .dataframe tbody tr th {\n",
       "        vertical-align: top;\n",
       "    }\n",
       "\n",
       "    .dataframe thead th {\n",
       "        text-align: right;\n",
       "    }\n",
       "</style>\n",
       "<table border=\"1\" class=\"dataframe\">\n",
       "  <thead>\n",
       "    <tr style=\"text-align: right;\">\n",
       "      <th></th>\n",
       "      <th>Proyecto1</th>\n",
       "      <th>Proyecto2</th>\n",
       "      <th>Examen1</th>\n",
       "      <th>Taller1</th>\n",
       "      <th>Tarea1</th>\n",
       "      <th>Final</th>\n",
       "      <th>Resultado</th>\n",
       "    </tr>\n",
       "  </thead>\n",
       "  <tbody>\n",
       "    <tr>\n",
       "      <th>0</th>\n",
       "      <td>100.0</td>\n",
       "      <td>100.0</td>\n",
       "      <td>53.3</td>\n",
       "      <td>80.0</td>\n",
       "      <td>76.0</td>\n",
       "      <td>80.0</td>\n",
       "      <td>1</td>\n",
       "    </tr>\n",
       "    <tr>\n",
       "      <th>1</th>\n",
       "      <td>0.0</td>\n",
       "      <td>0.0</td>\n",
       "      <td>12.6</td>\n",
       "      <td>40.0</td>\n",
       "      <td>0.0</td>\n",
       "      <td>5.0</td>\n",
       "      <td>0</td>\n",
       "    </tr>\n",
       "    <tr>\n",
       "      <th>2</th>\n",
       "      <td>100.0</td>\n",
       "      <td>45.0</td>\n",
       "      <td>49.6</td>\n",
       "      <td>100.0</td>\n",
       "      <td>100.0</td>\n",
       "      <td>80.0</td>\n",
       "      <td>1</td>\n",
       "    </tr>\n",
       "    <tr>\n",
       "      <th>3</th>\n",
       "      <td>0.0</td>\n",
       "      <td>0.0</td>\n",
       "      <td>0.0</td>\n",
       "      <td>0.0</td>\n",
       "      <td>0.0</td>\n",
       "      <td>0.0</td>\n",
       "      <td>0</td>\n",
       "    </tr>\n",
       "    <tr>\n",
       "      <th>4</th>\n",
       "      <td>100.0</td>\n",
       "      <td>100.0</td>\n",
       "      <td>61.6</td>\n",
       "      <td>100.0</td>\n",
       "      <td>66.7</td>\n",
       "      <td>80.0</td>\n",
       "      <td>1</td>\n",
       "    </tr>\n",
       "  </tbody>\n",
       "</table>\n",
       "</div>"
      ],
      "text/plain": [
       "   Proyecto1  Proyecto2  Examen1  Taller1  Tarea1  Final  Resultado\n",
       "0      100.0      100.0     53.3     80.0    76.0   80.0          1\n",
       "1        0.0        0.0     12.6     40.0     0.0    5.0          0\n",
       "2      100.0       45.0     49.6    100.0   100.0   80.0          1\n",
       "3        0.0        0.0      0.0      0.0     0.0    0.0          0\n",
       "4      100.0      100.0     61.6    100.0    66.7   80.0          1"
      ]
     },
     "execution_count": 247,
     "metadata": {},
     "output_type": "execute_result"
    }
   ],
   "source": [
    "df = pd.read_csv(\"./datasets/grades.csv\")\n",
    "df.head()"
   ]
  },
  {
   "attachments": {},
   "cell_type": "markdown",
   "metadata": {},
   "source": [
    "## Feature Engineering"
   ]
  },
  {
   "attachments": {},
   "cell_type": "markdown",
   "metadata": {},
   "source": [
    "### Estandarización del set de datos"
   ]
  },
  {
   "cell_type": "code",
   "execution_count": 248,
   "metadata": {},
   "outputs": [
    {
     "data": {
      "text/html": [
       "<div>\n",
       "<style scoped>\n",
       "    .dataframe tbody tr th:only-of-type {\n",
       "        vertical-align: middle;\n",
       "    }\n",
       "\n",
       "    .dataframe tbody tr th {\n",
       "        vertical-align: top;\n",
       "    }\n",
       "\n",
       "    .dataframe thead th {\n",
       "        text-align: right;\n",
       "    }\n",
       "</style>\n",
       "<table border=\"1\" class=\"dataframe\">\n",
       "  <thead>\n",
       "    <tr style=\"text-align: right;\">\n",
       "      <th></th>\n",
       "      <th>Proyecto1</th>\n",
       "      <th>Proyecto2</th>\n",
       "      <th>Examen1</th>\n",
       "      <th>Taller1</th>\n",
       "      <th>Tarea1</th>\n",
       "      <th>Final</th>\n",
       "      <th>Resultado</th>\n",
       "    </tr>\n",
       "  </thead>\n",
       "  <tbody>\n",
       "    <tr>\n",
       "      <th>0</th>\n",
       "      <td>1.129310</td>\n",
       "      <td>1.193013</td>\n",
       "      <td>0.552005</td>\n",
       "      <td>0.242692</td>\n",
       "      <td>0.820844</td>\n",
       "      <td>0.557863</td>\n",
       "      <td>0.658924</td>\n",
       "    </tr>\n",
       "    <tr>\n",
       "      <th>1</th>\n",
       "      <td>-1.865678</td>\n",
       "      <td>-2.167046</td>\n",
       "      <td>-1.343378</td>\n",
       "      <td>-0.970333</td>\n",
       "      <td>-1.214622</td>\n",
       "      <td>-2.104667</td>\n",
       "      <td>-1.503171</td>\n",
       "    </tr>\n",
       "    <tr>\n",
       "      <th>2</th>\n",
       "      <td>1.129310</td>\n",
       "      <td>-0.655020</td>\n",
       "      <td>0.379697</td>\n",
       "      <td>0.849204</td>\n",
       "      <td>1.463622</td>\n",
       "      <td>0.557863</td>\n",
       "      <td>0.658924</td>\n",
       "    </tr>\n",
       "    <tr>\n",
       "      <th>3</th>\n",
       "      <td>-1.865678</td>\n",
       "      <td>-2.167046</td>\n",
       "      <td>-1.930155</td>\n",
       "      <td>-2.183358</td>\n",
       "      <td>-1.214622</td>\n",
       "      <td>-2.282169</td>\n",
       "      <td>-1.503171</td>\n",
       "    </tr>\n",
       "    <tr>\n",
       "      <th>4</th>\n",
       "      <td>1.129310</td>\n",
       "      <td>1.193013</td>\n",
       "      <td>0.938533</td>\n",
       "      <td>0.849204</td>\n",
       "      <td>0.571767</td>\n",
       "      <td>0.557863</td>\n",
       "      <td>0.658924</td>\n",
       "    </tr>\n",
       "  </tbody>\n",
       "</table>\n",
       "</div>"
      ],
      "text/plain": [
       "   Proyecto1  Proyecto2   Examen1   Taller1    Tarea1     Final  Resultado\n",
       "0   1.129310   1.193013  0.552005  0.242692  0.820844  0.557863   0.658924\n",
       "1  -1.865678  -2.167046 -1.343378 -0.970333 -1.214622 -2.104667  -1.503171\n",
       "2   1.129310  -0.655020  0.379697  0.849204  1.463622  0.557863   0.658924\n",
       "3  -1.865678  -2.167046 -1.930155 -2.183358 -1.214622 -2.282169  -1.503171\n",
       "4   1.129310   1.193013  0.938533  0.849204  0.571767  0.557863   0.658924"
      ]
     },
     "execution_count": 248,
     "metadata": {},
     "output_type": "execute_result"
    }
   ],
   "source": [
    "standarized_data = standarize(df)\n",
    "standarized_data.head()"
   ]
  },
  {
   "cell_type": "code",
   "execution_count": 249,
   "metadata": {},
   "outputs": [
    {
     "data": {
      "text/html": [
       "<div>\n",
       "<style scoped>\n",
       "    .dataframe tbody tr th:only-of-type {\n",
       "        vertical-align: middle;\n",
       "    }\n",
       "\n",
       "    .dataframe tbody tr th {\n",
       "        vertical-align: top;\n",
       "    }\n",
       "\n",
       "    .dataframe thead th {\n",
       "        text-align: right;\n",
       "    }\n",
       "</style>\n",
       "<table border=\"1\" class=\"dataframe\">\n",
       "  <thead>\n",
       "    <tr style=\"text-align: right;\">\n",
       "      <th></th>\n",
       "      <th>Proyecto1</th>\n",
       "      <th>Proyecto2</th>\n",
       "      <th>Examen1</th>\n",
       "      <th>Taller1</th>\n",
       "    </tr>\n",
       "  </thead>\n",
       "  <tbody>\n",
       "    <tr>\n",
       "      <th>0</th>\n",
       "      <td>1.129310</td>\n",
       "      <td>1.193013</td>\n",
       "      <td>0.552005</td>\n",
       "      <td>0.242692</td>\n",
       "    </tr>\n",
       "    <tr>\n",
       "      <th>1</th>\n",
       "      <td>-1.865678</td>\n",
       "      <td>-2.167046</td>\n",
       "      <td>-1.343378</td>\n",
       "      <td>-0.970333</td>\n",
       "    </tr>\n",
       "    <tr>\n",
       "      <th>2</th>\n",
       "      <td>1.129310</td>\n",
       "      <td>-0.655020</td>\n",
       "      <td>0.379697</td>\n",
       "      <td>0.849204</td>\n",
       "    </tr>\n",
       "    <tr>\n",
       "      <th>3</th>\n",
       "      <td>-1.865678</td>\n",
       "      <td>-2.167046</td>\n",
       "      <td>-1.930155</td>\n",
       "      <td>-2.183358</td>\n",
       "    </tr>\n",
       "    <tr>\n",
       "      <th>4</th>\n",
       "      <td>1.129310</td>\n",
       "      <td>1.193013</td>\n",
       "      <td>0.938533</td>\n",
       "      <td>0.849204</td>\n",
       "    </tr>\n",
       "  </tbody>\n",
       "</table>\n",
       "</div>"
      ],
      "text/plain": [
       "   Proyecto1  Proyecto2   Examen1   Taller1\n",
       "0   1.129310   1.193013  0.552005  0.242692\n",
       "1  -1.865678  -2.167046 -1.343378 -0.970333\n",
       "2   1.129310  -0.655020  0.379697  0.849204\n",
       "3  -1.865678  -2.167046 -1.930155 -2.183358\n",
       "4   1.129310   1.193013  0.938533  0.849204"
      ]
     },
     "execution_count": 249,
     "metadata": {},
     "output_type": "execute_result"
    }
   ],
   "source": [
    "features = standarized_data[[\"Proyecto1\", \"Proyecto2\", \"Examen1\", \"Taller1\"]]\n",
    "features.head()"
   ]
  },
  {
   "cell_type": "code",
   "execution_count": 250,
   "metadata": {},
   "outputs": [
    {
     "name": "stdout",
     "output_type": "stream",
     "text": [
      "(105, 4)\n",
      "(105, 1)\n"
     ]
    }
   ],
   "source": [
    "X = features.to_numpy()\n",
    "Y = standarized_data.Final.to_numpy().reshape(-1, 1)\n",
    "\n",
    "print(X.shape)\n",
    "print(Y.shape)"
   ]
  },
  {
   "attachments": {},
   "cell_type": "markdown",
   "metadata": {},
   "source": [
    "### División del set de datos"
   ]
  },
  {
   "cell_type": "code",
   "execution_count": 251,
   "metadata": {},
   "outputs": [],
   "source": [
    "X_train, X_test, Y_train, Y_test = train_test_split(X, Y, test_size=0.2, random_state=404)"
   ]
  },
  {
   "attachments": {},
   "cell_type": "markdown",
   "metadata": {},
   "source": [
    "## Modelo de Regresión Lineal"
   ]
  },
  {
   "cell_type": "code",
   "execution_count": 252,
   "metadata": {},
   "outputs": [
    {
     "name": "stdout",
     "output_type": "stream",
     "text": [
      "[[116.70242493]\n",
      " [ 92.81893416]\n",
      " [ 63.19239632]\n",
      " [ 81.22120705]\n",
      " [ 94.11693266]\n",
      " [ 73.69915501]\n",
      " [ 73.28308489]\n",
      " [ 18.16277155]\n",
      " [ 49.85218159]\n",
      " [ 30.4572314 ]\n",
      " [  5.50310861]\n",
      " [ 64.14892951]\n",
      " [ 38.90006827]\n",
      " [ 10.59839922]\n",
      " [ 82.01855192]\n",
      " [ 61.20066671]\n",
      " [ 14.78656722]\n",
      " [102.07397776]\n",
      " [ 34.45744238]\n",
      " [105.72714556]\n",
      " [127.77643497]]\n"
     ]
    }
   ],
   "source": [
    "model = LinearRegression(n_features=4, epochs=1000000, learning_rate=0.001)\n",
    "model.train(X_train, Y_train)\n",
    "y_pred = model.predict(X_test)\n",
    "print(destandarize(y_pred, df.Final))"
   ]
  }
 ],
 "metadata": {
  "kernelspec": {
   "display_name": "Python 3",
   "language": "python",
   "name": "python3"
  },
  "language_info": {
   "codemirror_mode": {
    "name": "ipython",
    "version": 3
   },
   "file_extension": ".py",
   "mimetype": "text/x-python",
   "name": "python",
   "nbconvert_exporter": "python",
   "pygments_lexer": "ipython3",
   "version": "3.10.10"
  },
  "orig_nbformat": 4
 },
 "nbformat": 4,
 "nbformat_minor": 2
}
