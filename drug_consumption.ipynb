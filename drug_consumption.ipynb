{
 "cells": [
  {
   "cell_type": "code",
   "execution_count": 95,
   "metadata": {},
   "outputs": [],
   "source": [
    "from algorithms.knn import KNearestNeighbors\n",
    "from sklearn.neighbors import KNeighborsClassifier\n",
    "\n",
    "from algorithms.cart import DecisionTreeClassifier\n",
    "from sklearn.tree import DecisionTreeClassifier as SklearnDecisionTreeClassifier\n",
    "\n",
    "from algorithms.logit_regression import LogisticRegression\n",
    "from sklearn.linear_model import LogisticRegression as SklearnLogisticRegression\n",
    "\n",
    "from algorithms.metrics import metrics, compare\n",
    "\n",
    "import pandas as pd\n",
    "\n",
    "from sklearn.model_selection import train_test_split\n",
    "from hyperopt import fmin, tpe, hp, Trials, STATUS_OK"
   ]
  },
  {
   "attachments": {},
   "cell_type": "markdown",
   "metadata": {},
   "source": [
    "# Consumo de drogas según características de personalidad"
   ]
  },
  {
   "cell_type": "code",
   "execution_count": 96,
   "metadata": {},
   "outputs": [
    {
     "data": {
      "text/html": [
       "<div>\n",
       "<style scoped>\n",
       "    .dataframe tbody tr th:only-of-type {\n",
       "        vertical-align: middle;\n",
       "    }\n",
       "\n",
       "    .dataframe tbody tr th {\n",
       "        vertical-align: top;\n",
       "    }\n",
       "\n",
       "    .dataframe thead th {\n",
       "        text-align: right;\n",
       "    }\n",
       "</style>\n",
       "<table border=\"1\" class=\"dataframe\">\n",
       "  <thead>\n",
       "    <tr style=\"text-align: right;\">\n",
       "      <th></th>\n",
       "      <th>id</th>\n",
       "      <th>age</th>\n",
       "      <th>gender</th>\n",
       "      <th>education</th>\n",
       "      <th>country</th>\n",
       "      <th>ethnicity</th>\n",
       "      <th>Nscore</th>\n",
       "      <th>Escore</th>\n",
       "      <th>Oscore</th>\n",
       "      <th>Ascore</th>\n",
       "      <th>...</th>\n",
       "      <th>ecstacy</th>\n",
       "      <th>heroin</th>\n",
       "      <th>ketamine</th>\n",
       "      <th>legalh</th>\n",
       "      <th>lsd</th>\n",
       "      <th>meth</th>\n",
       "      <th>mushrooms</th>\n",
       "      <th>nicotine</th>\n",
       "      <th>semer</th>\n",
       "      <th>vsa</th>\n",
       "    </tr>\n",
       "  </thead>\n",
       "  <tbody>\n",
       "    <tr>\n",
       "      <th>0</th>\n",
       "      <td>1</td>\n",
       "      <td>0.49788</td>\n",
       "      <td>0.48246</td>\n",
       "      <td>-0.05921</td>\n",
       "      <td>0.96082</td>\n",
       "      <td>0.12600</td>\n",
       "      <td>0.31287</td>\n",
       "      <td>-0.57545</td>\n",
       "      <td>-0.58331</td>\n",
       "      <td>-0.91699</td>\n",
       "      <td>...</td>\n",
       "      <td>0</td>\n",
       "      <td>0</td>\n",
       "      <td>0</td>\n",
       "      <td>0</td>\n",
       "      <td>0</td>\n",
       "      <td>0</td>\n",
       "      <td>0</td>\n",
       "      <td>1</td>\n",
       "      <td>0</td>\n",
       "      <td>0</td>\n",
       "    </tr>\n",
       "    <tr>\n",
       "      <th>1</th>\n",
       "      <td>2</td>\n",
       "      <td>-0.07854</td>\n",
       "      <td>-0.48246</td>\n",
       "      <td>1.98437</td>\n",
       "      <td>0.96082</td>\n",
       "      <td>-0.31685</td>\n",
       "      <td>-0.67825</td>\n",
       "      <td>1.93886</td>\n",
       "      <td>1.43533</td>\n",
       "      <td>0.76096</td>\n",
       "      <td>...</td>\n",
       "      <td>1</td>\n",
       "      <td>0</td>\n",
       "      <td>1</td>\n",
       "      <td>0</td>\n",
       "      <td>1</td>\n",
       "      <td>1</td>\n",
       "      <td>0</td>\n",
       "      <td>1</td>\n",
       "      <td>0</td>\n",
       "      <td>0</td>\n",
       "    </tr>\n",
       "    <tr>\n",
       "      <th>2</th>\n",
       "      <td>3</td>\n",
       "      <td>0.49788</td>\n",
       "      <td>-0.48246</td>\n",
       "      <td>-0.05921</td>\n",
       "      <td>0.96082</td>\n",
       "      <td>-0.31685</td>\n",
       "      <td>-0.46725</td>\n",
       "      <td>0.80523</td>\n",
       "      <td>-0.84732</td>\n",
       "      <td>-1.62090</td>\n",
       "      <td>...</td>\n",
       "      <td>0</td>\n",
       "      <td>0</td>\n",
       "      <td>0</td>\n",
       "      <td>0</td>\n",
       "      <td>0</td>\n",
       "      <td>0</td>\n",
       "      <td>0</td>\n",
       "      <td>0</td>\n",
       "      <td>0</td>\n",
       "      <td>0</td>\n",
       "    </tr>\n",
       "    <tr>\n",
       "      <th>3</th>\n",
       "      <td>4</td>\n",
       "      <td>-0.95197</td>\n",
       "      <td>0.48246</td>\n",
       "      <td>1.16365</td>\n",
       "      <td>0.96082</td>\n",
       "      <td>-0.31685</td>\n",
       "      <td>-0.14882</td>\n",
       "      <td>-0.80615</td>\n",
       "      <td>-0.01928</td>\n",
       "      <td>0.59042</td>\n",
       "      <td>...</td>\n",
       "      <td>0</td>\n",
       "      <td>0</td>\n",
       "      <td>1</td>\n",
       "      <td>0</td>\n",
       "      <td>0</td>\n",
       "      <td>0</td>\n",
       "      <td>0</td>\n",
       "      <td>1</td>\n",
       "      <td>0</td>\n",
       "      <td>0</td>\n",
       "    </tr>\n",
       "    <tr>\n",
       "      <th>4</th>\n",
       "      <td>5</td>\n",
       "      <td>0.49788</td>\n",
       "      <td>0.48246</td>\n",
       "      <td>1.98437</td>\n",
       "      <td>0.96082</td>\n",
       "      <td>-0.31685</td>\n",
       "      <td>0.73545</td>\n",
       "      <td>-1.63340</td>\n",
       "      <td>-0.45174</td>\n",
       "      <td>-0.30172</td>\n",
       "      <td>...</td>\n",
       "      <td>0</td>\n",
       "      <td>0</td>\n",
       "      <td>0</td>\n",
       "      <td>0</td>\n",
       "      <td>0</td>\n",
       "      <td>0</td>\n",
       "      <td>1</td>\n",
       "      <td>1</td>\n",
       "      <td>0</td>\n",
       "      <td>0</td>\n",
       "    </tr>\n",
       "  </tbody>\n",
       "</table>\n",
       "<p>5 rows × 32 columns</p>\n",
       "</div>"
      ],
      "text/plain": [
       "   id      age   gender  education  country  ethnicity   Nscore   Escore  \\\n",
       "0   1  0.49788  0.48246   -0.05921  0.96082    0.12600  0.31287 -0.57545   \n",
       "1   2 -0.07854 -0.48246    1.98437  0.96082   -0.31685 -0.67825  1.93886   \n",
       "2   3  0.49788 -0.48246   -0.05921  0.96082   -0.31685 -0.46725  0.80523   \n",
       "3   4 -0.95197  0.48246    1.16365  0.96082   -0.31685 -0.14882 -0.80615   \n",
       "4   5  0.49788  0.48246    1.98437  0.96082   -0.31685  0.73545 -1.63340   \n",
       "\n",
       "    Oscore   Ascore  ...  ecstacy  heroin  ketamine  legalh  lsd  meth  \\\n",
       "0 -0.58331 -0.91699  ...        0       0         0       0    0     0   \n",
       "1  1.43533  0.76096  ...        1       0         1       0    1     1   \n",
       "2 -0.84732 -1.62090  ...        0       0         0       0    0     0   \n",
       "3 -0.01928  0.59042  ...        0       0         1       0    0     0   \n",
       "4 -0.45174 -0.30172  ...        0       0         0       0    0     0   \n",
       "\n",
       "   mushrooms  nicotine  semer  vsa  \n",
       "0          0         1      0    0  \n",
       "1          0         1      0    0  \n",
       "2          0         0      0    0  \n",
       "3          0         1      0    0  \n",
       "4          1         1      0    0  \n",
       "\n",
       "[5 rows x 32 columns]"
      ]
     },
     "execution_count": 96,
     "metadata": {},
     "output_type": "execute_result"
    }
   ],
   "source": [
    "df = pd.read_csv(\"./datasets/drug_consumption.csv\")\n",
    "df.head()"
   ]
  },
  {
   "attachments": {},
   "cell_type": "markdown",
   "metadata": {},
   "source": [
    "## Feature Engineering"
   ]
  },
  {
   "cell_type": "code",
   "execution_count": 97,
   "metadata": {},
   "outputs": [
    {
     "data": {
      "text/html": [
       "<div>\n",
       "<style scoped>\n",
       "    .dataframe tbody tr th:only-of-type {\n",
       "        vertical-align: middle;\n",
       "    }\n",
       "\n",
       "    .dataframe tbody tr th {\n",
       "        vertical-align: top;\n",
       "    }\n",
       "\n",
       "    .dataframe thead th {\n",
       "        text-align: right;\n",
       "    }\n",
       "</style>\n",
       "<table border=\"1\" class=\"dataframe\">\n",
       "  <thead>\n",
       "    <tr style=\"text-align: right;\">\n",
       "      <th></th>\n",
       "      <th>age</th>\n",
       "      <th>gender</th>\n",
       "      <th>education</th>\n",
       "      <th>Nscore</th>\n",
       "      <th>Escore</th>\n",
       "      <th>Oscore</th>\n",
       "      <th>Ascore</th>\n",
       "      <th>Cscore</th>\n",
       "      <th>impulsiviness</th>\n",
       "      <th>SS</th>\n",
       "    </tr>\n",
       "  </thead>\n",
       "  <tbody>\n",
       "    <tr>\n",
       "      <th>0</th>\n",
       "      <td>0.49788</td>\n",
       "      <td>0.48246</td>\n",
       "      <td>-0.05921</td>\n",
       "      <td>0.31287</td>\n",
       "      <td>-0.57545</td>\n",
       "      <td>-0.58331</td>\n",
       "      <td>-0.91699</td>\n",
       "      <td>-0.00665</td>\n",
       "      <td>-0.21712</td>\n",
       "      <td>-1.18084</td>\n",
       "    </tr>\n",
       "    <tr>\n",
       "      <th>1</th>\n",
       "      <td>-0.07854</td>\n",
       "      <td>-0.48246</td>\n",
       "      <td>1.98437</td>\n",
       "      <td>-0.67825</td>\n",
       "      <td>1.93886</td>\n",
       "      <td>1.43533</td>\n",
       "      <td>0.76096</td>\n",
       "      <td>-0.14277</td>\n",
       "      <td>-0.71126</td>\n",
       "      <td>-0.21575</td>\n",
       "    </tr>\n",
       "    <tr>\n",
       "      <th>2</th>\n",
       "      <td>0.49788</td>\n",
       "      <td>-0.48246</td>\n",
       "      <td>-0.05921</td>\n",
       "      <td>-0.46725</td>\n",
       "      <td>0.80523</td>\n",
       "      <td>-0.84732</td>\n",
       "      <td>-1.62090</td>\n",
       "      <td>-1.01450</td>\n",
       "      <td>-1.37983</td>\n",
       "      <td>0.40148</td>\n",
       "    </tr>\n",
       "    <tr>\n",
       "      <th>3</th>\n",
       "      <td>-0.95197</td>\n",
       "      <td>0.48246</td>\n",
       "      <td>1.16365</td>\n",
       "      <td>-0.14882</td>\n",
       "      <td>-0.80615</td>\n",
       "      <td>-0.01928</td>\n",
       "      <td>0.59042</td>\n",
       "      <td>0.58489</td>\n",
       "      <td>-1.37983</td>\n",
       "      <td>-1.18084</td>\n",
       "    </tr>\n",
       "    <tr>\n",
       "      <th>4</th>\n",
       "      <td>0.49788</td>\n",
       "      <td>0.48246</td>\n",
       "      <td>1.98437</td>\n",
       "      <td>0.73545</td>\n",
       "      <td>-1.63340</td>\n",
       "      <td>-0.45174</td>\n",
       "      <td>-0.30172</td>\n",
       "      <td>1.30612</td>\n",
       "      <td>-0.21712</td>\n",
       "      <td>-0.21575</td>\n",
       "    </tr>\n",
       "  </tbody>\n",
       "</table>\n",
       "</div>"
      ],
      "text/plain": [
       "       age   gender  education   Nscore   Escore   Oscore   Ascore   Cscore  \\\n",
       "0  0.49788  0.48246   -0.05921  0.31287 -0.57545 -0.58331 -0.91699 -0.00665   \n",
       "1 -0.07854 -0.48246    1.98437 -0.67825  1.93886  1.43533  0.76096 -0.14277   \n",
       "2  0.49788 -0.48246   -0.05921 -0.46725  0.80523 -0.84732 -1.62090 -1.01450   \n",
       "3 -0.95197  0.48246    1.16365 -0.14882 -0.80615 -0.01928  0.59042  0.58489   \n",
       "4  0.49788  0.48246    1.98437  0.73545 -1.63340 -0.45174 -0.30172  1.30612   \n",
       "\n",
       "   impulsiviness       SS  \n",
       "0       -0.21712 -1.18084  \n",
       "1       -0.71126 -0.21575  \n",
       "2       -1.37983  0.40148  \n",
       "3       -1.37983 -1.18084  \n",
       "4       -0.21712 -0.21575  "
      ]
     },
     "execution_count": 97,
     "metadata": {},
     "output_type": "execute_result"
    }
   ],
   "source": [
    "used_features = df[[\n",
    "                    \"age\", \"gender\", \"education\",\n",
    "                    \"Nscore\", \"Escore\", \"Oscore\",\n",
    "                    \"Ascore\", \"Cscore\", \"impulsiviness\", \"SS\"]]\n",
    "\n",
    "used_features.head()"
   ]
  },
  {
   "cell_type": "code",
   "execution_count": 118,
   "metadata": {},
   "outputs": [
    {
     "name": "stdout",
     "output_type": "stream",
     "text": [
      "(1885, 10)\n",
      "(1885,)\n"
     ]
    }
   ],
   "source": [
    "X = used_features.to_numpy()\n",
    "# Se selecciona el tipo de droga que se quiere evaluar\n",
    "y = df.cannabis.to_numpy() \n",
    "\n",
    "print(X.shape)\n",
    "print(y.shape)"
   ]
  },
  {
   "attachments": {},
   "cell_type": "markdown",
   "metadata": {},
   "source": [
    "### División del set de datos"
   ]
  },
  {
   "cell_type": "code",
   "execution_count": 119,
   "metadata": {},
   "outputs": [],
   "source": [
    "X_train, X_test, y_train, y_test = train_test_split(X, y, test_size=0.2, random_state=42)"
   ]
  },
  {
   "attachments": {},
   "cell_type": "markdown",
   "metadata": {},
   "source": [
    "## Modelo de clasificación con K-Nearest Neighbors"
   ]
  },
  {
   "attachments": {},
   "cell_type": "markdown",
   "metadata": {},
   "source": [
    "### Optimización de hiperparámetros"
   ]
  },
  {
   "cell_type": "code",
   "execution_count": 120,
   "metadata": {},
   "outputs": [],
   "source": [
    "def knn_objective(params):\n",
    "    n_neighbors = 2 * int(params['n_neighbors']) + 1\n",
    "    weights = params['weights']\n",
    "\n",
    "    our_knn_classifier = KNearestNeighbors(X_train, y_train, n_neighbors=n_neighbors, n_classes=2, weights=weights)\n",
    "    score = our_knn_classifier.score(X_test, y_test)\n",
    "\n",
    "    return {\n",
    "    'loss': -score, # Función de pérdida a minimizar\n",
    "    'status': STATUS_OK # Estatus de la evaluación (no se indefine, por lo que siempre será exitoso)\n",
    "    }"
   ]
  },
  {
   "cell_type": "code",
   "execution_count": 124,
   "metadata": {},
   "outputs": [
    {
     "name": "stdout",
     "output_type": "stream",
     "text": [
      "100%|██████████| 150/150 [02:42<00:00,  1.08s/trial, best loss: -0.7851458885941645]\n",
      "{'n_neighbors': [36.0], 'weights': [0]}\n"
     ]
    }
   ],
   "source": [
    "# Almacena el resultado de todas las evaluaciones de la función objetivo\n",
    "trials = Trials()\n",
    "\n",
    "# Espacio de búsqueda de hiperparámetros\n",
    "search_space = {\n",
    "    'n_neighbors': hp.quniform('n_neighbors', 1, 150, 1),\n",
    "    'weights': hp.choice('weights', ['uniform', 'distance'])\n",
    "}\n",
    "\n",
    "# Optimiza la precisión del modelo\n",
    "fmin(knn_objective,\n",
    "     search_space,\n",
    "     algo=tpe.suggest,\n",
    "     max_evals=150,\n",
    "     trials=trials)\n",
    "\n",
    "# Muestra los mejores hiperparámetros\n",
    "best = trials.best_trial['misc']['vals']\n",
    "print(best)"
   ]
  },
  {
   "attachments": {},
   "cell_type": "markdown",
   "metadata": {},
   "source": [
    "### Entrenamiento del modelo"
   ]
  },
  {
   "cell_type": "code",
   "execution_count": 127,
   "metadata": {},
   "outputs": [],
   "source": [
    "n_neighbors = 2 * int(best['n_neighbors'][0]) + 1\n",
    "weights = 'uniform' if best['weights'][0] == 0 else 'distance'\n",
    "\n",
    "our_knn_classifier = KNearestNeighbors(X_train, y_train, n_neighbors=n_neighbors, n_classes=2, weights=weights)\n",
    "our_knn_y_pred = our_knn_classifier.predict(X_test)\n",
    "\n",
    "sklearn_knn_classifier = KNeighborsClassifier(n_neighbors=n_neighbors, weights=weights).fit(X_train, y_train)\n",
    "sklearn_knn_y_pred = sklearn_knn_classifier.predict(X_test)"
   ]
  },
  {
   "attachments": {},
   "cell_type": "markdown",
   "metadata": {},
   "source": [
    "### Evaluación del modelo"
   ]
  },
  {
   "cell_type": "code",
   "execution_count": 128,
   "metadata": {},
   "outputs": [
    {
     "data": {
      "text/html": [
       "<div>\n",
       "<style scoped>\n",
       "    .dataframe tbody tr th:only-of-type {\n",
       "        vertical-align: middle;\n",
       "    }\n",
       "\n",
       "    .dataframe tbody tr th {\n",
       "        vertical-align: top;\n",
       "    }\n",
       "\n",
       "    .dataframe thead th {\n",
       "        text-align: right;\n",
       "    }\n",
       "</style>\n",
       "<table border=\"1\" class=\"dataframe\">\n",
       "  <thead>\n",
       "    <tr style=\"text-align: right;\">\n",
       "      <th></th>\n",
       "      <th>Our Implementation</th>\n",
       "      <th>Sklearn's Implementation</th>\n",
       "    </tr>\n",
       "  </thead>\n",
       "  <tbody>\n",
       "    <tr>\n",
       "      <th>Accuracy</th>\n",
       "      <td>0.785146</td>\n",
       "      <td>0.785146</td>\n",
       "    </tr>\n",
       "    <tr>\n",
       "      <th>Precision</th>\n",
       "      <td>0.789214</td>\n",
       "      <td>0.789214</td>\n",
       "    </tr>\n",
       "    <tr>\n",
       "      <th>Recall</th>\n",
       "      <td>0.785146</td>\n",
       "      <td>0.785146</td>\n",
       "    </tr>\n",
       "  </tbody>\n",
       "</table>\n",
       "</div>"
      ],
      "text/plain": [
       "           Our Implementation  Sklearn's Implementation\n",
       "Accuracy             0.785146                  0.785146\n",
       "Precision            0.789214                  0.789214\n",
       "Recall               0.785146                  0.785146"
      ]
     },
     "execution_count": 128,
     "metadata": {},
     "output_type": "execute_result"
    }
   ],
   "source": [
    "our_knn_metrics = metrics(y_test, our_knn_y_pred)\n",
    "sklearn_knn_metrics = metrics(y_test, sklearn_knn_y_pred)\n",
    "\n",
    "compare(our_knn_metrics, sklearn_knn_metrics)"
   ]
  },
  {
   "attachments": {},
   "cell_type": "markdown",
   "metadata": {},
   "source": [
    "## Modelo de clasificación con Árboles de Decisión"
   ]
  },
  {
   "attachments": {},
   "cell_type": "markdown",
   "metadata": {},
   "source": [
    "### Optimización de hiperparámetros"
   ]
  },
  {
   "cell_type": "code",
   "execution_count": 104,
   "metadata": {},
   "outputs": [],
   "source": [
    "X = used_features\n",
    "y = df.cannabis\n",
    "\n",
    "X_train, X_test, y_train, y_test = train_test_split(X, y, test_size=0.2, random_state=42)\n",
    "\n",
    "def cart_objective(params):\n",
    "    max_depth = int(params['max_depth'])\n",
    "\n",
    "    our_cart_classifier = DecisionTreeClassifier(max_depth=max_depth)\n",
    "    our_cart_classifier.fit(X_train, y_train)\n",
    "    \n",
    "    score = our_cart_classifier.score(X_test, y_test)\n",
    "\n",
    "    return {\n",
    "    'loss': -score, # Función de pérdida a minimizar\n",
    "    'status': STATUS_OK # Estatus de la evaluación (no se indefine, por lo que siempre será exitoso)\n",
    "    }"
   ]
  },
  {
   "cell_type": "code",
   "execution_count": 105,
   "metadata": {},
   "outputs": [
    {
     "name": "stdout",
     "output_type": "stream",
     "text": [
      "100%|██████████| 25/25 [19:55<00:00, 47.83s/trial, best loss: -0.7214854111405835]\n",
      "{'max_depth': [274.0]}\n"
     ]
    }
   ],
   "source": [
    "# Almacena el resultado de todas las evaluaciones de la función objetivo\n",
    "trials = Trials()\n",
    "\n",
    "# Espacio de búsqueda de hiperparámetros\n",
    "search_space = {'max_depth': hp.quniform('max_depth', 10, 300, 1)}\n",
    "\n",
    "# Optimiza la precisión del modelo\n",
    "fmin(cart_objective,\n",
    "     search_space,\n",
    "     algo=tpe.suggest,\n",
    "     max_evals=10,\n",
    "     trials=trials)\n",
    "\n",
    "# Muestra los mejores hiperparámetros\n",
    "best = trials.best_trial['misc']['vals']\n",
    "print(best)"
   ]
  },
  {
   "attachments": {},
   "cell_type": "markdown",
   "metadata": {},
   "source": [
    "### Entrenamiento del modelo"
   ]
  },
  {
   "cell_type": "code",
   "execution_count": 106,
   "metadata": {},
   "outputs": [],
   "source": [
    "max_depth = int(best['max_depth'][0])\n",
    "\n",
    "our_cart_classifier = DecisionTreeClassifier(max_depth=max_depth)\n",
    "our_cart_classifier.fit(X_train, y_train)\n",
    "our_cart_y_pred = our_cart_classifier.predict(X_test)\n",
    "\n",
    "sklearn_cart_classifier = SklearnDecisionTreeClassifier(max_depth=max_depth)\n",
    "sklearn_cart_classifier.fit(X_train,y_train)\n",
    "sklearn_cart_classifier_y_pred = sklearn_cart_classifier.predict(X_test)"
   ]
  },
  {
   "attachments": {},
   "cell_type": "markdown",
   "metadata": {},
   "source": [
    "### Evaluación del modelo"
   ]
  },
  {
   "cell_type": "code",
   "execution_count": 107,
   "metadata": {},
   "outputs": [
    {
     "data": {
      "text/html": [
       "<div>\n",
       "<style scoped>\n",
       "    .dataframe tbody tr th:only-of-type {\n",
       "        vertical-align: middle;\n",
       "    }\n",
       "\n",
       "    .dataframe tbody tr th {\n",
       "        vertical-align: top;\n",
       "    }\n",
       "\n",
       "    .dataframe thead th {\n",
       "        text-align: right;\n",
       "    }\n",
       "</style>\n",
       "<table border=\"1\" class=\"dataframe\">\n",
       "  <thead>\n",
       "    <tr style=\"text-align: right;\">\n",
       "      <th></th>\n",
       "      <th>Our Implementation</th>\n",
       "      <th>Sklearn's Implementation</th>\n",
       "    </tr>\n",
       "  </thead>\n",
       "  <tbody>\n",
       "    <tr>\n",
       "      <th>Accuracy</th>\n",
       "      <td>0.721485</td>\n",
       "      <td>0.716180</td>\n",
       "    </tr>\n",
       "    <tr>\n",
       "      <th>Precision</th>\n",
       "      <td>0.746934</td>\n",
       "      <td>0.734449</td>\n",
       "    </tr>\n",
       "    <tr>\n",
       "      <th>Recall</th>\n",
       "      <td>0.721485</td>\n",
       "      <td>0.716180</td>\n",
       "    </tr>\n",
       "  </tbody>\n",
       "</table>\n",
       "</div>"
      ],
      "text/plain": [
       "           Our Implementation  Sklearn's Implementation\n",
       "Accuracy             0.721485                  0.716180\n",
       "Precision            0.746934                  0.734449\n",
       "Recall               0.721485                  0.716180"
      ]
     },
     "execution_count": 107,
     "metadata": {},
     "output_type": "execute_result"
    }
   ],
   "source": [
    "our_cart_metrics = metrics(y_test, our_cart_y_pred)\n",
    "sklearn_cart_metrics = metrics(y_test, sklearn_cart_classifier_y_pred)\n",
    "\n",
    "compare(our_cart_metrics, sklearn_cart_metrics)"
   ]
  },
  {
   "attachments": {},
   "cell_type": "markdown",
   "metadata": {},
   "source": [
    "## Modelo de clasificación con Regresión Logística"
   ]
  },
  {
   "attachments": {},
   "cell_type": "markdown",
   "metadata": {},
   "source": [
    "### Optimización de hiperparámetros"
   ]
  },
  {
   "cell_type": "code",
   "execution_count": 108,
   "metadata": {},
   "outputs": [],
   "source": [
    "def logit_objective(params):\n",
    "    lr = params['lr']\n",
    "    num_iter = int(params['num_iter'])\n",
    "    threshold = params['threshold']\n",
    "\n",
    "    our_logit_classifier = LogisticRegression(lr=lr, num_iter=num_iter)\n",
    "    our_logit_classifier.fit(X_train, y_train)\n",
    "    y_pred = our_logit_classifier.predict(X_test, threshold)\n",
    "    \n",
    "    score = our_logit_classifier.score(y_test, y_pred)\n",
    "\n",
    "    return {\n",
    "    'loss': -score, # Función de pérdida a minimizar\n",
    "    'status': STATUS_OK # Estatus de la evaluación (no se indefine, por lo que siempre será exitoso)\n",
    "    }"
   ]
  },
  {
   "cell_type": "code",
   "execution_count": 109,
   "metadata": {},
   "outputs": [
    {
     "name": "stdout",
     "output_type": "stream",
     "text": [
      "100%|██████████| 200/200 [16:32<00:00,  4.96s/trial, best loss: -0.7957559681697612]\n",
      "{'lr': [0.37764938279536114], 'num_iter': [1996.0], 'threshold': [0.5878881704793822]}\n"
     ]
    }
   ],
   "source": [
    "# Almacena el resultado de todas las evaluaciones de la función objetivo\n",
    "trials = Trials()\n",
    "\n",
    "# Espacio de búsqueda de hiperparámetros\n",
    "search_space = {'lr': hp.uniform('lr', 0.001, 1.0 ),\n",
    "                'num_iter': hp.quniform('num_iter', 1, 5000, 1),\n",
    "                'threshold': hp.uniform('threshold', 0.01, 1.0)}\n",
    "\n",
    "# Optimiza la precisión del modelo\n",
    "fmin(logit_objective,\n",
    "     search_space,\n",
    "     algo=tpe.suggest,\n",
    "     max_evals=125,\n",
    "     trials=trials)\n",
    "\n",
    "# Muestra los mejores hiperparámetros\n",
    "best = trials.best_trial['misc']['vals']\n",
    "print(best)"
   ]
  },
  {
   "attachments": {},
   "cell_type": "markdown",
   "metadata": {},
   "source": [
    "### Entrenamiento del modelo"
   ]
  },
  {
   "cell_type": "code",
   "execution_count": 110,
   "metadata": {},
   "outputs": [],
   "source": [
    "lr = best['lr'][0]\n",
    "num_iter = int(best['num_iter'][0])\n",
    "threshold = best['threshold'][0]\n",
    "\n",
    "our_logit_classifier = LogisticRegression(lr=lr, num_iter=num_iter)\n",
    "our_logit_classifier.fit(X_train, y_train)\n",
    "our_logit_y_pred = our_logit_classifier.predict(X_test, threshold)\n",
    "\n",
    "sklearn_logit_classifier = SklearnLogisticRegression(max_iter=num_iter)\n",
    "sklearn_logit_classifier.fit(X_train, y_train)\n",
    "sklearn_logit_y_pred = sklearn_logit_classifier.predict(X_test)"
   ]
  },
  {
   "attachments": {},
   "cell_type": "markdown",
   "metadata": {},
   "source": [
    "### Evaluación del modelo"
   ]
  },
  {
   "cell_type": "code",
   "execution_count": 111,
   "metadata": {},
   "outputs": [
    {
     "data": {
      "text/html": [
       "<div>\n",
       "<style scoped>\n",
       "    .dataframe tbody tr th:only-of-type {\n",
       "        vertical-align: middle;\n",
       "    }\n",
       "\n",
       "    .dataframe tbody tr th {\n",
       "        vertical-align: top;\n",
       "    }\n",
       "\n",
       "    .dataframe thead th {\n",
       "        text-align: right;\n",
       "    }\n",
       "</style>\n",
       "<table border=\"1\" class=\"dataframe\">\n",
       "  <thead>\n",
       "    <tr style=\"text-align: right;\">\n",
       "      <th></th>\n",
       "      <th>Our Implementation</th>\n",
       "      <th>Sklearn's Implementation</th>\n",
       "    </tr>\n",
       "  </thead>\n",
       "  <tbody>\n",
       "    <tr>\n",
       "      <th>Accuracy</th>\n",
       "      <td>0.795756</td>\n",
       "      <td>0.785146</td>\n",
       "    </tr>\n",
       "    <tr>\n",
       "      <th>Precision</th>\n",
       "      <td>0.816376</td>\n",
       "      <td>0.790496</td>\n",
       "    </tr>\n",
       "    <tr>\n",
       "      <th>Recall</th>\n",
       "      <td>0.795756</td>\n",
       "      <td>0.785146</td>\n",
       "    </tr>\n",
       "  </tbody>\n",
       "</table>\n",
       "</div>"
      ],
      "text/plain": [
       "           Our Implementation  Sklearn's Implementation\n",
       "Accuracy             0.795756                  0.785146\n",
       "Precision            0.816376                  0.790496\n",
       "Recall               0.795756                  0.785146"
      ]
     },
     "execution_count": 111,
     "metadata": {},
     "output_type": "execute_result"
    }
   ],
   "source": [
    "our_logit_metrics = metrics(y_test, our_logit_y_pred)\n",
    "sklearn_logit_metrics = metrics(y_test, sklearn_logit_y_pred)\n",
    "\n",
    "compare(our_logit_metrics, sklearn_logit_metrics)"
   ]
  }
 ],
 "metadata": {
  "kernelspec": {
   "display_name": "Python 3",
   "language": "python",
   "name": "python3"
  },
  "language_info": {
   "codemirror_mode": {
    "name": "ipython",
    "version": 3
   },
   "file_extension": ".py",
   "mimetype": "text/x-python",
   "name": "python",
   "nbconvert_exporter": "python",
   "pygments_lexer": "ipython3",
   "version": "3.10.10"
  },
  "orig_nbformat": 4
 },
 "nbformat": 4,
 "nbformat_minor": 2
}
