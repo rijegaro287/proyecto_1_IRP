{
 "cells": [
  {
   "attachments": {},
   "cell_type": "markdown",
   "metadata": {},
   "source": [
    "<h1> <center> Proyecto #1  </h1>\n",
    "<h2> <center> Explorando los Algoritmos de Aprendizaje Supervisado  </h2>\n",
    "\n",
    "<div> <center>\n",
    "  <h3> Integrantes: </h3>\n",
    "  <ul style=\"list-style:none; padding:0\">\n",
    "    <li> Ricardo Gatgens Rodríguez </li>\n",
    "    <li> Valeria Morales Alvarado </li>\n",
    "  </ul>\n",
    "</div>\n"
   ]
  },
  {
   "cell_type": "code",
   "execution_count": 1,
   "metadata": {},
   "outputs": [],
   "source": [
    "import math\n",
    "import numpy as np\n",
    "import pandas as pd\n",
    "\n",
    "from sklearn.neighbors import KNeighborsClassifier\n",
    "from sklearn.tree import DecisionTreeClassifier as SklearnDecisionTreeClassifier\n",
    "from sklearn.linear_model import LogisticRegression as SklearnLogisticRegression\n",
    "\n",
    "from sklearn.model_selection import train_test_split\n",
    "from hyperopt import fmin, tpe, hp, Trials, STATUS_OK\n",
    "from sklearn.metrics import accuracy_score, precision_score, recall_score\n"
   ]
  },
  {
   "attachments": {},
   "cell_type": "markdown",
   "metadata": {},
   "source": [
    "# Algoritmo K-Nearst Neighbors"
   ]
  },
  {
   "cell_type": "code",
   "execution_count": 2,
   "metadata": {},
   "outputs": [],
   "source": [
    "class KNearestNeighbors():\n",
    "    def __init__(self, X_train, y_train, n_neighbors=5, n_classes=3, weights='uniform'):\n",
    "        self.X_train = X_train\n",
    "        self.y_train = y_train\n",
    "\n",
    "        self.n_neighbors = n_neighbors\n",
    "        self.n_classes = n_classes\n",
    "        \n",
    "        self.weights = weights\n",
    "\n",
    "    def euclidian_distance(self, a, b):\n",
    "        return np.sqrt(np.sum((a - b)**2, axis=1))\n",
    "\n",
    "    def kneighbors(self, X_test, return_distance=False):\n",
    "        dist = []\n",
    "        neigh_ind = []\n",
    "\n",
    "        point_dist = []\n",
    "        for x_test in X_test:\n",
    "            point_dist += [self.euclidian_distance(x_test, self.X_train)]\n",
    "\n",
    "        for row in point_dist:\n",
    "            enum_neigh = enumerate(row)\n",
    "            sorted_neigh = sorted(enum_neigh,\n",
    "                                  key=lambda x: x[1])[:self.n_neighbors]\n",
    "\n",
    "            ind_list = [tup[0] for tup in sorted_neigh]\n",
    "            dist_list = [tup[1] for tup in sorted_neigh]\n",
    "\n",
    "            dist.append(dist_list)\n",
    "            neigh_ind.append(ind_list)\n",
    "\n",
    "        if return_distance:\n",
    "            return np.array(dist), np.array(neigh_ind)\n",
    "\n",
    "        return np.array(neigh_ind)\n",
    "\n",
    "    def predict(self, X_test):\n",
    "        if self.weights == 'uniform':\n",
    "            neighbors = self.kneighbors(X_test)\n",
    "            y_pred = np.array([\n",
    "                np.argmax(np.bincount(self.y_train[neighbor]))\n",
    "                for neighbor in neighbors\n",
    "            ])\n",
    "            return y_pred\n",
    "\n",
    "        if self.weights == 'distance':\n",
    "            distances, neighbors = self.kneighbors(\n",
    "                X_test=X_test, return_distance=True)\n",
    "            y_pred = []\n",
    "            for i in range(len(X_test)):\n",
    "                # Los k vecinos más cercanos\n",
    "                neighbor = neighbors[i]\n",
    "                # Distancias a los k vecinos más cercanos\n",
    "                distance = distances[i]\n",
    "\n",
    "                # Etiquetas de los k vecinos más cercanos\n",
    "                neighbors_tag = self.y_train[neighbor]\n",
    "                # Cantidad de vecinos por clase\n",
    "                class_count = np.bincount(\n",
    "                    neighbors_tag, minlength=self.n_classes)\n",
    "\n",
    "                # Promedio de distancias a los vecinos de cada clase\n",
    "                weights = []\n",
    "                for j in range(self.n_classes):\n",
    "                    # Vecinos de una clase dada\n",
    "                    class_neighbors = np.where(neighbors_tag == j)\n",
    "                    if len(class_neighbors[0]) > 0:\n",
    "                        # Si hay vecinos de la clase j, calcula el promedio de sus distancias\n",
    "                        class_weight = np.sum(\n",
    "                            distance[class_neighbors]) / class_count[j]\n",
    "                    else:\n",
    "                        # Si no hay vecinos de la clase j, asigna un peso infinito\n",
    "                        class_weight = float('inf')\n",
    "\n",
    "                    # Guarda el peso de la clase j en el índice j\n",
    "                    weights.append(class_weight)\n",
    "\n",
    "                # Selecciona la clase con el menor peso\n",
    "                y_pred.append(np.argmin(weights))\n",
    "\n",
    "            return np.array(y_pred)\n",
    "\n",
    "    def score(self, X_test, y_test):\n",
    "        y_pred = self.predict(X_test)\n",
    "        return float(sum(y_pred == y_test)) / float(len(y_test))"
   ]
  },
  {
   "attachments": {},
   "cell_type": "markdown",
   "metadata": {},
   "source": [
    "# Algoritmo Clasification and Regression Trees"
   ]
  },
  {
   "cell_type": "code",
   "execution_count": 3,
   "metadata": {},
   "outputs": [],
   "source": [
    "def entropy_func(c, n):\n",
    "    return -(c*1.0/n)*math.log(c*1.0/n, 2)\n",
    "\n",
    "\n",
    "def entropy_cal(c1, c2):\n",
    "    if c1 == 0 or c2 == 0:\n",
    "        return 0\n",
    "    return entropy_func(c1, c1+c2) + entropy_func(c2, c1+c2)\n",
    "\n",
    "\n",
    "def entropy_of_one_division(division):\n",
    "    s = 0\n",
    "    n = len(division)\n",
    "    classes = set(division)\n",
    "    for c in classes:\n",
    "        n_c = sum(division == c)\n",
    "        e = n_c*1.0/n * entropy_cal(sum(division == c),\n",
    "                                    sum(division != c))\n",
    "        s += e\n",
    "    return s, n\n",
    "\n",
    "\n",
    "def get_entropy(y_predict, y_real):\n",
    "    if len(y_predict) != len(y_real):\n",
    "        print('They have to be the same length')\n",
    "        return None\n",
    "    n = len(y_real)\n",
    "    s_true, n_true = entropy_of_one_division(\n",
    "        y_real[y_predict])\n",
    "    s_false, n_false = entropy_of_one_division(\n",
    "        y_real[~y_predict])\n",
    "    s = n_true*1.0/n * s_true + n_false*1.0/n * s_false\n",
    "    return s\n",
    "\n",
    "\n",
    "class DecisionTreeClassifier(object):\n",
    "    def __init__(self, max_depth):\n",
    "        self.depth = 0\n",
    "        self.max_depth = max_depth\n",
    "\n",
    "    def fit(self, x, y, par_node={}):\n",
    "        if par_node is None:\n",
    "            return None\n",
    "        elif len(y) == 0:\n",
    "            return None\n",
    "        elif self.all_same(y):\n",
    "            return {'val': y.iloc[0]}\n",
    "        elif self.depth >= self.max_depth:\n",
    "            return None\n",
    "        else:\n",
    "            self.depth += 1\n",
    "\n",
    "            col, cutoff, entropy = self.find_best_split_of_all(\n",
    "                x, y)    # find one split given an information gain\n",
    "            y_left = y[x.iloc[:, col] < cutoff]\n",
    "            y_right = y[x.iloc[:, col] >= cutoff]\n",
    "            par_node = {'col': x.columns[col], 'index_col': col,\n",
    "                        'cutoff': cutoff,\n",
    "                        'val': np.round(np.mean(y))}\n",
    "            par_node['left'] = self.fit(\n",
    "                x[x.iloc[:, col] < cutoff], y_left, {})\n",
    "            par_node['right'] = self.fit(\n",
    "                x[x.iloc[:, col] >= cutoff], y_right, {})\n",
    "            self.trees = par_node\n",
    "            return par_node\n",
    "\n",
    "    # all features versus values, get best\n",
    "    def find_best_split_of_all(self, x, y):\n",
    "        # print(x.shape, y.shape)\n",
    "        col = None\n",
    "        min_entropy = 1\n",
    "        cutoff = None\n",
    "        # x.T es la transpuesta de x (x.T analiza las columnas)\n",
    "        for i, c in enumerate(x.columns):\n",
    "            # x.columns son las columnas\n",
    "            entropy, cur_cutoff = self.find_best_split(x[c], y)\n",
    "            if entropy == 0:    # find the first perfect cutoff. Stop Iterating\n",
    "                return i, cur_cutoff, entropy\n",
    "            elif entropy <= min_entropy:\n",
    "                min_entropy = entropy\n",
    "                col = i\n",
    "                cutoff = cur_cutoff\n",
    "        return col, cutoff, min_entropy\n",
    "\n",
    "    # one feature versus values\n",
    "    def find_best_split(self, col, y):\n",
    "        min_entropy = 10\n",
    "        n = len(y)\n",
    "        for value in set(col):\n",
    "            y_predict = col < value  # get which ones are less than\n",
    "            my_entropy = get_entropy(y_predict, y)\n",
    "            if my_entropy <= min_entropy:\n",
    "                min_entropy = my_entropy\n",
    "                cutoff = value\n",
    "        return min_entropy, cutoff\n",
    "\n",
    "    def all_same(self, items):\n",
    "        return all(x == items.iloc[0] for x in items)\n",
    "\n",
    "    def predict(self, x):\n",
    "        tree = self.trees\n",
    "        x = x.reset_index(drop=True)\n",
    "        results = np.array([0]*x.shape[0])\n",
    "\n",
    "        for i, row in x.iterrows():\n",
    "            rowList = list(row)  # Convertir filas en listas\n",
    "            results[i] = self._get_prediction(rowList)\n",
    "        return results\n",
    "\n",
    "    def _get_prediction(self, row):\n",
    "        cur_layer = self.trees\n",
    "        while cur_layer is not None and cur_layer.get('cutoff'):\n",
    "            if row[cur_layer['index_col']] < cur_layer['cutoff']:\n",
    "                cur_layer = cur_layer['left']\n",
    "            else:\n",
    "                cur_layer = cur_layer['right']\n",
    "\n",
    "        if cur_layer is not None:\n",
    "            return cur_layer.get('val')\n",
    "        else:\n",
    "            return 0\n",
    "\n",
    "    def score(self, X_test, y_test):\n",
    "        y_pred = self.predict(X_test)\n",
    "        return float(sum(y_pred == y_test)) / float(len(y_test))"
   ]
  },
  {
   "attachments": {},
   "cell_type": "markdown",
   "metadata": {},
   "source": [
    "# Algoritmo Logistic Regression"
   ]
  },
  {
   "cell_type": "code",
   "execution_count": 4,
   "metadata": {},
   "outputs": [],
   "source": [
    "class LogisticRegression:\n",
    "    def __init__(self, lr=0.01, num_iter=100000, fit_intercept=True):\n",
    "        self.lr = lr\n",
    "        self.num_iter = num_iter\n",
    "        self.fit_intercept = fit_intercept\n",
    "\n",
    "    def __add_intercept(self, X):\n",
    "        intercept = np.ones((X.shape[0], 1))\n",
    "        return np.concatenate((intercept, X), axis=1)\n",
    "\n",
    "    def __sigmoid(self, z):\n",
    "        return 1 / (1 + np.exp(-z))\n",
    "\n",
    "    def __loss(self, h, y):\n",
    "        return (-y * np.log(h) - (1 - y) * np.log(1 - h)).mean()\n",
    "\n",
    "    def fit(self, X, y):\n",
    "        if self.fit_intercept:\n",
    "            X = self.__add_intercept(X)\n",
    "\n",
    "        # weights initialization\n",
    "        self.w = np.zeros(X.shape[1])\n",
    "\n",
    "        for i in range(self.num_iter):\n",
    "            z = np.dot(X, self.w)\n",
    "            h = self.__sigmoid(z)\n",
    "            gradient = np.dot(X.T, (h-y)) / y.size\n",
    "            self.w -= self.lr * gradient\n",
    "\n",
    "    def predict_prob(self, X):\n",
    "        if self.fit_intercept:\n",
    "            X = self.__add_intercept(X)\n",
    "\n",
    "        return self.__sigmoid(np.dot(X, self.w))\n",
    "\n",
    "    def predict(self, X, threshold):\n",
    "        return self.predict_prob(X) >= threshold\n",
    "\n",
    "    def score(self, y_pred, y_test):\n",
    "        return float(sum(y_pred == y_test)) / float(len(y_test))"
   ]
  },
  {
   "attachments": {},
   "cell_type": "markdown",
   "metadata": {},
   "source": [
    "# Métricas de evaluación"
   ]
  },
  {
   "cell_type": "code",
   "execution_count": 5,
   "metadata": {},
   "outputs": [],
   "source": [
    "def get_metrics(y_test, y_pred):\n",
    "    score = float(sum(y_pred == y_test)) / float(len(y_test))\n",
    "    accuracy = accuracy_score(y_test, y_pred)\n",
    "    precision = precision_score(\n",
    "        y_test, y_pred, average='weighted', labels=np.unique(y_pred))\n",
    "    recall = recall_score(\n",
    "        y_test, y_pred, average='weighted', labels=np.unique(y_pred))\n",
    "\n",
    "    metrics = [accuracy, precision, recall]\n",
    "\n",
    "    return metrics\n",
    "\n",
    "def compare_metrics(our_metrics, sklearn_metrics):\n",
    "    res = pd.DataFrame([[our_metrics[0], sklearn_metrics[0]],\n",
    "                        [our_metrics[1], sklearn_metrics[1]],\n",
    "                        [our_metrics[2], sklearn_metrics[2]]],\n",
    "                       ['Accuracy', 'Precision', 'Recall'],\n",
    "                       ['Our Implementation', 'Sklearn\\'s Implementation'])\n",
    "    return res"
   ]
  },
  {
   "attachments": {},
   "cell_type": "markdown",
   "metadata": {},
   "source": [
    "# Calidad de vino rojo según características químicas"
   ]
  },
  {
   "cell_type": "code",
   "execution_count": 6,
   "metadata": {},
   "outputs": [
    {
     "data": {
      "text/html": [
       "<div>\n",
       "<style scoped>\n",
       "    .dataframe tbody tr th:only-of-type {\n",
       "        vertical-align: middle;\n",
       "    }\n",
       "\n",
       "    .dataframe tbody tr th {\n",
       "        vertical-align: top;\n",
       "    }\n",
       "\n",
       "    .dataframe thead th {\n",
       "        text-align: right;\n",
       "    }\n",
       "</style>\n",
       "<table border=\"1\" class=\"dataframe\">\n",
       "  <thead>\n",
       "    <tr style=\"text-align: right;\">\n",
       "      <th></th>\n",
       "      <th>fixed acidity</th>\n",
       "      <th>volatile acidity</th>\n",
       "      <th>citric acid</th>\n",
       "      <th>residual sugar</th>\n",
       "      <th>chlorides</th>\n",
       "      <th>free sulfur dioxide</th>\n",
       "      <th>total sulfur dioxide</th>\n",
       "      <th>density</th>\n",
       "      <th>pH</th>\n",
       "      <th>sulphates</th>\n",
       "      <th>alcohol</th>\n",
       "      <th>quality</th>\n",
       "    </tr>\n",
       "  </thead>\n",
       "  <tbody>\n",
       "    <tr>\n",
       "      <th>0</th>\n",
       "      <td>7.4</td>\n",
       "      <td>0.70</td>\n",
       "      <td>0.00</td>\n",
       "      <td>1.9</td>\n",
       "      <td>0.076</td>\n",
       "      <td>11</td>\n",
       "      <td>34</td>\n",
       "      <td>0.9978</td>\n",
       "      <td>3.51</td>\n",
       "      <td>0.56</td>\n",
       "      <td>9.4</td>\n",
       "      <td>5</td>\n",
       "    </tr>\n",
       "    <tr>\n",
       "      <th>1</th>\n",
       "      <td>7.8</td>\n",
       "      <td>0.88</td>\n",
       "      <td>0.00</td>\n",
       "      <td>2.6</td>\n",
       "      <td>0.098</td>\n",
       "      <td>25</td>\n",
       "      <td>67</td>\n",
       "      <td>0.9968</td>\n",
       "      <td>3.20</td>\n",
       "      <td>0.68</td>\n",
       "      <td>9.8</td>\n",
       "      <td>5</td>\n",
       "    </tr>\n",
       "    <tr>\n",
       "      <th>2</th>\n",
       "      <td>7.8</td>\n",
       "      <td>0.76</td>\n",
       "      <td>0.04</td>\n",
       "      <td>2.3</td>\n",
       "      <td>0.092</td>\n",
       "      <td>15</td>\n",
       "      <td>54</td>\n",
       "      <td>0.9970</td>\n",
       "      <td>3.26</td>\n",
       "      <td>0.65</td>\n",
       "      <td>9.8</td>\n",
       "      <td>5</td>\n",
       "    </tr>\n",
       "    <tr>\n",
       "      <th>3</th>\n",
       "      <td>11.2</td>\n",
       "      <td>0.28</td>\n",
       "      <td>0.56</td>\n",
       "      <td>1.9</td>\n",
       "      <td>0.075</td>\n",
       "      <td>17</td>\n",
       "      <td>60</td>\n",
       "      <td>0.9980</td>\n",
       "      <td>3.16</td>\n",
       "      <td>0.58</td>\n",
       "      <td>9.8</td>\n",
       "      <td>6</td>\n",
       "    </tr>\n",
       "    <tr>\n",
       "      <th>4</th>\n",
       "      <td>7.4</td>\n",
       "      <td>0.70</td>\n",
       "      <td>0.00</td>\n",
       "      <td>1.9</td>\n",
       "      <td>0.076</td>\n",
       "      <td>11</td>\n",
       "      <td>34</td>\n",
       "      <td>0.9978</td>\n",
       "      <td>3.51</td>\n",
       "      <td>0.56</td>\n",
       "      <td>9.4</td>\n",
       "      <td>5</td>\n",
       "    </tr>\n",
       "  </tbody>\n",
       "</table>\n",
       "</div>"
      ],
      "text/plain": [
       "   fixed acidity  volatile acidity  citric acid  residual sugar  chlorides  \\\n",
       "0            7.4              0.70         0.00             1.9      0.076   \n",
       "1            7.8              0.88         0.00             2.6      0.098   \n",
       "2            7.8              0.76         0.04             2.3      0.092   \n",
       "3           11.2              0.28         0.56             1.9      0.075   \n",
       "4            7.4              0.70         0.00             1.9      0.076   \n",
       "\n",
       "   free sulfur dioxide  total sulfur dioxide  density    pH  sulphates  \\\n",
       "0                   11                    34   0.9978  3.51       0.56   \n",
       "1                   25                    67   0.9968  3.20       0.68   \n",
       "2                   15                    54   0.9970  3.26       0.65   \n",
       "3                   17                    60   0.9980  3.16       0.58   \n",
       "4                   11                    34   0.9978  3.51       0.56   \n",
       "\n",
       "   alcohol  quality  \n",
       "0      9.4        5  \n",
       "1      9.8        5  \n",
       "2      9.8        5  \n",
       "3      9.8        6  \n",
       "4      9.4        5  "
      ]
     },
     "execution_count": 6,
     "metadata": {},
     "output_type": "execute_result"
    }
   ],
   "source": [
    "df = pd.read_csv(\"./datasets/winequality-red.csv\")\n",
    "df.head()"
   ]
  },
  {
   "attachments": {},
   "cell_type": "markdown",
   "metadata": {},
   "source": [
    "## Feature engineering"
   ]
  },
  {
   "attachments": {},
   "cell_type": "markdown",
   "metadata": {},
   "source": [
    "### Selección de características"
   ]
  },
  {
   "cell_type": "code",
   "execution_count": 7,
   "metadata": {},
   "outputs": [],
   "source": [
    "features=['fixed acidity','volatile acidity', 'citric acid',\n",
    "          'residual sugar','chlorides','free sulfur dioxide',\n",
    "          'total sulfur dioxide', 'density', 'pH',\n",
    "          'sulphates', 'alcohol']\n",
    "\n",
    "X = df[features]"
   ]
  },
  {
   "attachments": {},
   "cell_type": "markdown",
   "metadata": {},
   "source": [
    "### Normalización de los datos"
   ]
  },
  {
   "cell_type": "code",
   "execution_count": 8,
   "metadata": {},
   "outputs": [
    {
     "data": {
      "text/html": [
       "<div>\n",
       "<style scoped>\n",
       "    .dataframe tbody tr th:only-of-type {\n",
       "        vertical-align: middle;\n",
       "    }\n",
       "\n",
       "    .dataframe tbody tr th {\n",
       "        vertical-align: top;\n",
       "    }\n",
       "\n",
       "    .dataframe thead th {\n",
       "        text-align: right;\n",
       "    }\n",
       "</style>\n",
       "<table border=\"1\" class=\"dataframe\">\n",
       "  <thead>\n",
       "    <tr style=\"text-align: right;\">\n",
       "      <th></th>\n",
       "      <th>fixed acidity</th>\n",
       "      <th>volatile acidity</th>\n",
       "      <th>citric acid</th>\n",
       "      <th>residual sugar</th>\n",
       "      <th>chlorides</th>\n",
       "      <th>free sulfur dioxide</th>\n",
       "      <th>total sulfur dioxide</th>\n",
       "      <th>density</th>\n",
       "      <th>pH</th>\n",
       "      <th>sulphates</th>\n",
       "      <th>alcohol</th>\n",
       "    </tr>\n",
       "  </thead>\n",
       "  <tbody>\n",
       "    <tr>\n",
       "      <th>0</th>\n",
       "      <td>0.247788</td>\n",
       "      <td>0.397260</td>\n",
       "      <td>0.00</td>\n",
       "      <td>0.068493</td>\n",
       "      <td>0.106845</td>\n",
       "      <td>0.140845</td>\n",
       "      <td>0.098940</td>\n",
       "      <td>0.567548</td>\n",
       "      <td>0.606299</td>\n",
       "      <td>0.137725</td>\n",
       "      <td>0.153846</td>\n",
       "    </tr>\n",
       "    <tr>\n",
       "      <th>1</th>\n",
       "      <td>0.283186</td>\n",
       "      <td>0.520548</td>\n",
       "      <td>0.00</td>\n",
       "      <td>0.116438</td>\n",
       "      <td>0.143573</td>\n",
       "      <td>0.338028</td>\n",
       "      <td>0.215548</td>\n",
       "      <td>0.494126</td>\n",
       "      <td>0.362205</td>\n",
       "      <td>0.209581</td>\n",
       "      <td>0.215385</td>\n",
       "    </tr>\n",
       "    <tr>\n",
       "      <th>2</th>\n",
       "      <td>0.283186</td>\n",
       "      <td>0.438356</td>\n",
       "      <td>0.04</td>\n",
       "      <td>0.095890</td>\n",
       "      <td>0.133556</td>\n",
       "      <td>0.197183</td>\n",
       "      <td>0.169611</td>\n",
       "      <td>0.508811</td>\n",
       "      <td>0.409449</td>\n",
       "      <td>0.191617</td>\n",
       "      <td>0.215385</td>\n",
       "    </tr>\n",
       "    <tr>\n",
       "      <th>3</th>\n",
       "      <td>0.584071</td>\n",
       "      <td>0.109589</td>\n",
       "      <td>0.56</td>\n",
       "      <td>0.068493</td>\n",
       "      <td>0.105175</td>\n",
       "      <td>0.225352</td>\n",
       "      <td>0.190813</td>\n",
       "      <td>0.582232</td>\n",
       "      <td>0.330709</td>\n",
       "      <td>0.149701</td>\n",
       "      <td>0.215385</td>\n",
       "    </tr>\n",
       "    <tr>\n",
       "      <th>4</th>\n",
       "      <td>0.247788</td>\n",
       "      <td>0.397260</td>\n",
       "      <td>0.00</td>\n",
       "      <td>0.068493</td>\n",
       "      <td>0.106845</td>\n",
       "      <td>0.140845</td>\n",
       "      <td>0.098940</td>\n",
       "      <td>0.567548</td>\n",
       "      <td>0.606299</td>\n",
       "      <td>0.137725</td>\n",
       "      <td>0.153846</td>\n",
       "    </tr>\n",
       "  </tbody>\n",
       "</table>\n",
       "</div>"
      ],
      "text/plain": [
       "   fixed acidity  volatile acidity  citric acid  residual sugar  chlorides  \\\n",
       "0       0.247788          0.397260         0.00        0.068493   0.106845   \n",
       "1       0.283186          0.520548         0.00        0.116438   0.143573   \n",
       "2       0.283186          0.438356         0.04        0.095890   0.133556   \n",
       "3       0.584071          0.109589         0.56        0.068493   0.105175   \n",
       "4       0.247788          0.397260         0.00        0.068493   0.106845   \n",
       "\n",
       "   free sulfur dioxide  total sulfur dioxide   density        pH  sulphates  \\\n",
       "0             0.140845              0.098940  0.567548  0.606299   0.137725   \n",
       "1             0.338028              0.215548  0.494126  0.362205   0.209581   \n",
       "2             0.197183              0.169611  0.508811  0.409449   0.191617   \n",
       "3             0.225352              0.190813  0.582232  0.330709   0.149701   \n",
       "4             0.140845              0.098940  0.567548  0.606299   0.137725   \n",
       "\n",
       "    alcohol  \n",
       "0  0.153846  \n",
       "1  0.215385  \n",
       "2  0.215385  \n",
       "3  0.215385  \n",
       "4  0.153846  "
      ]
     },
     "execution_count": 8,
     "metadata": {},
     "output_type": "execute_result"
    }
   ],
   "source": [
    "X = (X - X.min()) / (X.max() - X.min())\n",
    "X.head()"
   ]
  },
  {
   "attachments": {},
   "cell_type": "markdown",
   "metadata": {},
   "source": [
    "### Conversión a problema de clasificación binaria"
   ]
  },
  {
   "cell_type": "code",
   "execution_count": 9,
   "metadata": {},
   "outputs": [],
   "source": [
    "y = df.quality\n",
    "Outcome = []\n",
    "\n",
    "for i in y:\n",
    "    if(y[i] <= 5):\n",
    "        Outcome.append(0)\n",
    "    else:\n",
    "        Outcome.append(1)\n",
    "\n",
    "df['Outcome'] = Outcome\n",
    "y=df.Outcome\n",
    "y_name = df['Outcome'].name"
   ]
  },
  {
   "attachments": {},
   "cell_type": "markdown",
   "metadata": {},
   "source": [
    "## Modelo de clasificación con K-Nearest Neighbors"
   ]
  },
  {
   "attachments": {},
   "cell_type": "markdown",
   "metadata": {},
   "source": [
    "### División del set de datos"
   ]
  },
  {
   "cell_type": "code",
   "execution_count": 10,
   "metadata": {},
   "outputs": [],
   "source": [
    "X_train, X_test, y_train, y_test = train_test_split(X.to_numpy(), y.to_numpy(), test_size=0.3, random_state=45)"
   ]
  },
  {
   "attachments": {},
   "cell_type": "markdown",
   "metadata": {},
   "source": [
    "### Optimización de hiperparámetros"
   ]
  },
  {
   "cell_type": "code",
   "execution_count": 11,
   "metadata": {},
   "outputs": [],
   "source": [
    "def knn_objective(params):\n",
    "    n_neighbors = 2 * int(params['n_neighbors']) + 1\n",
    "    weights = params['weights']\n",
    "\n",
    "    our_knn_classifier = KNearestNeighbors(X_train, y_train, n_neighbors=n_neighbors, n_classes=2, weights=weights)\n",
    "    score = our_knn_classifier.score(X_test, y_test)\n",
    "\n",
    "    return {\n",
    "    'loss': -score, # Función de pérdida a minimizar\n",
    "    'status': STATUS_OK # Estatus de la evaluación (no se indefine, por lo que siempre será exitoso)\n",
    "    }"
   ]
  },
  {
   "cell_type": "code",
   "execution_count": 12,
   "metadata": {},
   "outputs": [
    {
     "name": "stdout",
     "output_type": "stream",
     "text": [
      "100%|██████████| 150/150 [00:46<00:00,  3.24trial/s, best loss: -0.8875]           \n",
      "{'n_neighbors': [57.0], 'weights': [0]}\n"
     ]
    }
   ],
   "source": [
    "# Almacena el resultado de todas las evaluaciones de la función objetivo\n",
    "trials = Trials()\n",
    "\n",
    "# Espacio de búsqueda de hiperparámetros\n",
    "search_space = {\n",
    "    'n_neighbors': hp.quniform('n_neighbors', 1, 150, 1),\n",
    "    'weights': hp.choice('weights', ['uniform', 'distance'])\n",
    "}\n",
    "\n",
    "# Optimiza la precisión del modelo\n",
    "fmin(knn_objective,\n",
    "     search_space,\n",
    "     algo=tpe.suggest,\n",
    "     max_evals=150,\n",
    "     trials=trials)\n",
    "\n",
    "# Muestra los mejores hiperparámetros\n",
    "best = trials.best_trial['misc']['vals']\n",
    "print(best)"
   ]
  },
  {
   "attachments": {},
   "cell_type": "markdown",
   "metadata": {},
   "source": [
    "### Entrenamiento del modelo"
   ]
  },
  {
   "cell_type": "code",
   "execution_count": 13,
   "metadata": {},
   "outputs": [],
   "source": [
    "n_neighbors = 2 * int(best['n_neighbors'][0]) + 1\n",
    "weights = 'uniform' if best['weights'][0] == 0 else 'distance'\n",
    "\n",
    "our_knn_classifier = KNearestNeighbors(X_train, y_train, n_neighbors=n_neighbors, n_classes=2, weights=weights)\n",
    "our_knn_y_pred = our_knn_classifier.predict(X_test)\n",
    "\n",
    "sklearn_knn_classifier = KNeighborsClassifier(n_neighbors=n_neighbors, weights=weights).fit(X_train, y_train)\n",
    "sklearn_knn_y_pred = sklearn_knn_classifier.predict(X_test)"
   ]
  },
  {
   "attachments": {},
   "cell_type": "markdown",
   "metadata": {},
   "source": [
    "### Evaluación del modelo"
   ]
  },
  {
   "cell_type": "code",
   "execution_count": 14,
   "metadata": {},
   "outputs": [
    {
     "data": {
      "text/html": [
       "<div>\n",
       "<style scoped>\n",
       "    .dataframe tbody tr th:only-of-type {\n",
       "        vertical-align: middle;\n",
       "    }\n",
       "\n",
       "    .dataframe tbody tr th {\n",
       "        vertical-align: top;\n",
       "    }\n",
       "\n",
       "    .dataframe thead th {\n",
       "        text-align: right;\n",
       "    }\n",
       "</style>\n",
       "<table border=\"1\" class=\"dataframe\">\n",
       "  <thead>\n",
       "    <tr style=\"text-align: right;\">\n",
       "      <th></th>\n",
       "      <th>Our Implementation</th>\n",
       "      <th>Sklearn's Implementation</th>\n",
       "    </tr>\n",
       "  </thead>\n",
       "  <tbody>\n",
       "    <tr>\n",
       "      <th>Accuracy</th>\n",
       "      <td>0.887500</td>\n",
       "      <td>0.887500</td>\n",
       "    </tr>\n",
       "    <tr>\n",
       "      <th>Precision</th>\n",
       "      <td>0.871101</td>\n",
       "      <td>0.871101</td>\n",
       "    </tr>\n",
       "    <tr>\n",
       "      <th>Recall</th>\n",
       "      <td>0.887500</td>\n",
       "      <td>0.887500</td>\n",
       "    </tr>\n",
       "  </tbody>\n",
       "</table>\n",
       "</div>"
      ],
      "text/plain": [
       "           Our Implementation  Sklearn's Implementation\n",
       "Accuracy             0.887500                  0.887500\n",
       "Precision            0.871101                  0.871101\n",
       "Recall               0.887500                  0.887500"
      ]
     },
     "execution_count": 14,
     "metadata": {},
     "output_type": "execute_result"
    }
   ],
   "source": [
    "our_knn_metrics = get_metrics(y_test, our_knn_y_pred)\n",
    "sklearn_knn_metrics = get_metrics(y_test, sklearn_knn_y_pred)\n",
    "\n",
    "compare_metrics(our_knn_metrics, sklearn_knn_metrics)"
   ]
  },
  {
   "cell_type": "markdown",
   "metadata": {},
   "source": [
    "## Modelo de clasificación con Árboles de Decisión"
   ]
  },
  {
   "attachments": {},
   "cell_type": "markdown",
   "metadata": {},
   "source": [
    "### División del set de datos"
   ]
  },
  {
   "cell_type": "code",
   "execution_count": 15,
   "metadata": {},
   "outputs": [],
   "source": [
    "X_train, X_test, y_train, y_test = train_test_split(X, y, test_size=0.50, random_state=100)"
   ]
  },
  {
   "cell_type": "markdown",
   "metadata": {},
   "source": [
    "### Optimización de hiperparámetros"
   ]
  },
  {
   "cell_type": "code",
   "execution_count": 16,
   "metadata": {},
   "outputs": [],
   "source": [
    "def cart_objective(params):\n",
    "    max_depth = int(params['max_depth'])\n",
    "\n",
    "    our_cart_classifier = DecisionTreeClassifier(max_depth=max_depth)\n",
    "    our_cart_classifier.fit(X_train, y_train)\n",
    "    \n",
    "    score = our_cart_classifier.score(X_test, y_test)\n",
    "\n",
    "    return {\n",
    "    'loss': -score, # Función de pérdida a minimizar\n",
    "    'status': STATUS_OK # Estatus de la evaluación (no se indefine, por lo que siempre será exitoso)\n",
    "    }"
   ]
  },
  {
   "cell_type": "code",
   "execution_count": 17,
   "metadata": {},
   "outputs": [
    {
     "name": "stdout",
     "output_type": "stream",
     "text": [
      "100%|██████████| 10/10 [03:44<00:00, 22.44s/trial, best loss: -0.86]  \n",
      "{'max_depth': [52.0]}\n"
     ]
    }
   ],
   "source": [
    "# Almacena el resultado de todas las evaluaciones de la función objetivo\n",
    "trials = Trials()\n",
    "\n",
    "# Espacio de búsqueda de hiperparámetros\n",
    "search_space = {'max_depth': hp.quniform('max_depth', 10, 300, 1)}\n",
    "\n",
    "# Optimiza la precisión del modelo\n",
    "fmin(cart_objective,\n",
    "     search_space,\n",
    "     algo=tpe.suggest,\n",
    "     max_evals=10,\n",
    "     trials=trials)\n",
    "\n",
    "# Muestra los mejores hiperparámetros\n",
    "best = trials.best_trial['misc']['vals']\n",
    "print(best)"
   ]
  },
  {
   "cell_type": "markdown",
   "metadata": {},
   "source": [
    "### Entrenamiento del modelo"
   ]
  },
  {
   "cell_type": "code",
   "execution_count": 18,
   "metadata": {},
   "outputs": [],
   "source": [
    "max_depth = int(best['max_depth'][0])\n",
    "\n",
    "our_cart_classifier = DecisionTreeClassifier(max_depth=max_depth)\n",
    "our_cart_classifier.fit(X_train, y_train)\n",
    "our_cart_y_pred = our_cart_classifier.predict(X_test)\n",
    "\n",
    "sklearn_cart_classifier = SklearnDecisionTreeClassifier(max_depth=max_depth)\n",
    "sklearn_cart_classifier.fit(X_train,y_train)\n",
    "sklearn_cart_classifier_y_pred = sklearn_cart_classifier.predict(X_test)"
   ]
  },
  {
   "cell_type": "markdown",
   "metadata": {},
   "source": [
    "### Evaluación del modelo"
   ]
  },
  {
   "cell_type": "code",
   "execution_count": 19,
   "metadata": {},
   "outputs": [
    {
     "data": {
      "text/html": [
       "<div>\n",
       "<style scoped>\n",
       "    .dataframe tbody tr th:only-of-type {\n",
       "        vertical-align: middle;\n",
       "    }\n",
       "\n",
       "    .dataframe tbody tr th {\n",
       "        vertical-align: top;\n",
       "    }\n",
       "\n",
       "    .dataframe thead th {\n",
       "        text-align: right;\n",
       "    }\n",
       "</style>\n",
       "<table border=\"1\" class=\"dataframe\">\n",
       "  <thead>\n",
       "    <tr style=\"text-align: right;\">\n",
       "      <th></th>\n",
       "      <th>Our Implementation</th>\n",
       "      <th>Sklearn's Implementation</th>\n",
       "    </tr>\n",
       "  </thead>\n",
       "  <tbody>\n",
       "    <tr>\n",
       "      <th>Accuracy</th>\n",
       "      <td>0.860000</td>\n",
       "      <td>0.835000</td>\n",
       "    </tr>\n",
       "    <tr>\n",
       "      <th>Precision</th>\n",
       "      <td>0.837068</td>\n",
       "      <td>0.848903</td>\n",
       "    </tr>\n",
       "    <tr>\n",
       "      <th>Recall</th>\n",
       "      <td>0.860000</td>\n",
       "      <td>0.835000</td>\n",
       "    </tr>\n",
       "  </tbody>\n",
       "</table>\n",
       "</div>"
      ],
      "text/plain": [
       "           Our Implementation  Sklearn's Implementation\n",
       "Accuracy             0.860000                  0.835000\n",
       "Precision            0.837068                  0.848903\n",
       "Recall               0.860000                  0.835000"
      ]
     },
     "execution_count": 19,
     "metadata": {},
     "output_type": "execute_result"
    }
   ],
   "source": [
    "our_cart_metrics = get_metrics(y_test, our_cart_y_pred)\n",
    "sklearn_cart_metrics = get_metrics(y_test, sklearn_cart_classifier_y_pred)\n",
    "\n",
    "compare_metrics(our_cart_metrics, sklearn_cart_metrics)"
   ]
  },
  {
   "cell_type": "markdown",
   "metadata": {},
   "source": [
    "## Modelo de clasificación con Regresión Logística"
   ]
  },
  {
   "attachments": {},
   "cell_type": "markdown",
   "metadata": {},
   "source": [
    "### División del set de datos"
   ]
  },
  {
   "cell_type": "code",
   "execution_count": 20,
   "metadata": {},
   "outputs": [],
   "source": [
    "X_train, X_test, y_train, y_test = train_test_split(X, y, test_size=0.50, random_state=100)"
   ]
  },
  {
   "cell_type": "markdown",
   "metadata": {},
   "source": [
    "### Optimización de hiperparámetros"
   ]
  },
  {
   "cell_type": "code",
   "execution_count": 21,
   "metadata": {},
   "outputs": [],
   "source": [
    "def logit_objective(params):\n",
    "    lr = params['lr']\n",
    "    num_iter = int(params['num_iter'])\n",
    "    threshold = params['threshold']\n",
    "\n",
    "    our_logit_classifier = LogisticRegression(lr=lr, num_iter=num_iter)\n",
    "    our_logit_classifier.fit(X_train, y_train)\n",
    "    y_pred = our_logit_classifier.predict(X_test, threshold)\n",
    "    \n",
    "    score = our_logit_classifier.score(y_test, y_pred)\n",
    "\n",
    "    return {\n",
    "    'loss': -score, # Función de pérdida a minimizar\n",
    "    'status': STATUS_OK # Estatus de la evaluación (no se indefine, por lo que siempre será exitoso)\n",
    "    }"
   ]
  },
  {
   "cell_type": "code",
   "execution_count": 22,
   "metadata": {},
   "outputs": [
    {
     "name": "stdout",
     "output_type": "stream",
     "text": [
      "100%|██████████| 125/125 [04:37<00:00,  2.22s/trial, best loss: -0.88125]\n",
      "{'lr': [0.8378462524728069], 'num_iter': [3306.0], 'threshold': [0.5300060835033367]}\n"
     ]
    }
   ],
   "source": [
    "# Almacena el resultado de todas las evaluaciones de la función objetivo\n",
    "trials = Trials()\n",
    "\n",
    "# Espacio de búsqueda de hiperparámetros\n",
    "search_space = {'lr': hp.uniform('lr', 0.01, 1.0 ),\n",
    "                'num_iter': hp.quniform('num_iter', 1, 5000, 1),\n",
    "                'threshold': hp.uniform('threshold', 0.01, 1.0)}\n",
    "\n",
    "# Optimiza la precisión del modelo\n",
    "fmin(logit_objective,\n",
    "     search_space,\n",
    "     algo=tpe.suggest,\n",
    "     max_evals=125,\n",
    "     trials=trials)\n",
    "\n",
    "# Muestra los mejores hiperparámetros\n",
    "best = trials.best_trial['misc']['vals']\n",
    "print(best)"
   ]
  },
  {
   "cell_type": "markdown",
   "metadata": {},
   "source": [
    "### Entrenamiento del modelo"
   ]
  },
  {
   "cell_type": "code",
   "execution_count": 23,
   "metadata": {},
   "outputs": [],
   "source": [
    "lr = best['lr'][0]\n",
    "num_iter = int(best['num_iter'][0])\n",
    "threshold = best['threshold'][0]\n",
    "\n",
    "our_logit_classifier = LogisticRegression(lr=lr, num_iter=num_iter)\n",
    "our_logit_classifier.fit(X_train, y_train)\n",
    "our_logit_y_pred = our_logit_classifier.predict(X_test, threshold)\n",
    "\n",
    "sklearn_logit_classifier = SklearnLogisticRegression(max_iter=num_iter)\n",
    "sklearn_logit_classifier.fit(X_train, y_train)\n",
    "sklearn_logit_y_pred = sklearn_logit_classifier.predict(X_test)"
   ]
  },
  {
   "cell_type": "markdown",
   "metadata": {},
   "source": [
    "### Evaluación del modelo"
   ]
  },
  {
   "cell_type": "code",
   "execution_count": 24,
   "metadata": {},
   "outputs": [
    {
     "data": {
      "text/html": [
       "<div>\n",
       "<style scoped>\n",
       "    .dataframe tbody tr th:only-of-type {\n",
       "        vertical-align: middle;\n",
       "    }\n",
       "\n",
       "    .dataframe tbody tr th {\n",
       "        vertical-align: top;\n",
       "    }\n",
       "\n",
       "    .dataframe thead th {\n",
       "        text-align: right;\n",
       "    }\n",
       "</style>\n",
       "<table border=\"1\" class=\"dataframe\">\n",
       "  <thead>\n",
       "    <tr style=\"text-align: right;\">\n",
       "      <th></th>\n",
       "      <th>Our Implementation</th>\n",
       "      <th>Sklearn's Implementation</th>\n",
       "    </tr>\n",
       "  </thead>\n",
       "  <tbody>\n",
       "    <tr>\n",
       "      <th>Accuracy</th>\n",
       "      <td>0.881250</td>\n",
       "      <td>0.867500</td>\n",
       "    </tr>\n",
       "    <tr>\n",
       "      <th>Precision</th>\n",
       "      <td>0.865129</td>\n",
       "      <td>0.836647</td>\n",
       "    </tr>\n",
       "    <tr>\n",
       "      <th>Recall</th>\n",
       "      <td>0.881250</td>\n",
       "      <td>0.867500</td>\n",
       "    </tr>\n",
       "  </tbody>\n",
       "</table>\n",
       "</div>"
      ],
      "text/plain": [
       "           Our Implementation  Sklearn's Implementation\n",
       "Accuracy             0.881250                  0.867500\n",
       "Precision            0.865129                  0.836647\n",
       "Recall               0.881250                  0.867500"
      ]
     },
     "execution_count": 24,
     "metadata": {},
     "output_type": "execute_result"
    }
   ],
   "source": [
    "our_logit_metrics = get_metrics(y_test, our_logit_y_pred)\n",
    "sklearn_logit_metrics = get_metrics(y_test, sklearn_logit_y_pred)\n",
    "\n",
    "compare_metrics(our_logit_metrics, sklearn_logit_metrics)"
   ]
  },
  {
   "attachments": {},
   "cell_type": "markdown",
   "metadata": {},
   "source": [
    "# Aprobación del curso Arquitectura de Computadores I según notas"
   ]
  },
  {
   "cell_type": "code",
   "execution_count": 25,
   "metadata": {},
   "outputs": [
    {
     "data": {
      "text/html": [
       "<div>\n",
       "<style scoped>\n",
       "    .dataframe tbody tr th:only-of-type {\n",
       "        vertical-align: middle;\n",
       "    }\n",
       "\n",
       "    .dataframe tbody tr th {\n",
       "        vertical-align: top;\n",
       "    }\n",
       "\n",
       "    .dataframe thead th {\n",
       "        text-align: right;\n",
       "    }\n",
       "</style>\n",
       "<table border=\"1\" class=\"dataframe\">\n",
       "  <thead>\n",
       "    <tr style=\"text-align: right;\">\n",
       "      <th></th>\n",
       "      <th>Proyecto1</th>\n",
       "      <th>Proyecto2</th>\n",
       "      <th>Examen1</th>\n",
       "      <th>Taller1</th>\n",
       "      <th>Tarea1</th>\n",
       "      <th>Final</th>\n",
       "      <th>Resultado</th>\n",
       "    </tr>\n",
       "  </thead>\n",
       "  <tbody>\n",
       "    <tr>\n",
       "      <th>0</th>\n",
       "      <td>100.0</td>\n",
       "      <td>100.0</td>\n",
       "      <td>53.3</td>\n",
       "      <td>80.0</td>\n",
       "      <td>76.0</td>\n",
       "      <td>80.0</td>\n",
       "      <td>1</td>\n",
       "    </tr>\n",
       "    <tr>\n",
       "      <th>1</th>\n",
       "      <td>0.0</td>\n",
       "      <td>0.0</td>\n",
       "      <td>12.6</td>\n",
       "      <td>40.0</td>\n",
       "      <td>0.0</td>\n",
       "      <td>5.0</td>\n",
       "      <td>0</td>\n",
       "    </tr>\n",
       "    <tr>\n",
       "      <th>2</th>\n",
       "      <td>100.0</td>\n",
       "      <td>45.0</td>\n",
       "      <td>49.6</td>\n",
       "      <td>100.0</td>\n",
       "      <td>100.0</td>\n",
       "      <td>80.0</td>\n",
       "      <td>1</td>\n",
       "    </tr>\n",
       "    <tr>\n",
       "      <th>3</th>\n",
       "      <td>0.0</td>\n",
       "      <td>0.0</td>\n",
       "      <td>0.0</td>\n",
       "      <td>0.0</td>\n",
       "      <td>0.0</td>\n",
       "      <td>0.0</td>\n",
       "      <td>0</td>\n",
       "    </tr>\n",
       "    <tr>\n",
       "      <th>4</th>\n",
       "      <td>100.0</td>\n",
       "      <td>100.0</td>\n",
       "      <td>61.6</td>\n",
       "      <td>100.0</td>\n",
       "      <td>66.7</td>\n",
       "      <td>80.0</td>\n",
       "      <td>1</td>\n",
       "    </tr>\n",
       "  </tbody>\n",
       "</table>\n",
       "</div>"
      ],
      "text/plain": [
       "   Proyecto1  Proyecto2  Examen1  Taller1  Tarea1  Final  Resultado\n",
       "0      100.0      100.0     53.3     80.0    76.0   80.0          1\n",
       "1        0.0        0.0     12.6     40.0     0.0    5.0          0\n",
       "2      100.0       45.0     49.6    100.0   100.0   80.0          1\n",
       "3        0.0        0.0      0.0      0.0     0.0    0.0          0\n",
       "4      100.0      100.0     61.6    100.0    66.7   80.0          1"
      ]
     },
     "execution_count": 25,
     "metadata": {},
     "output_type": "execute_result"
    }
   ],
   "source": [
    "df = pd.read_csv(\"./datasets/grades.csv\")\n",
    "df.head()"
   ]
  },
  {
   "attachments": {},
   "cell_type": "markdown",
   "metadata": {},
   "source": [
    "## Feature Engineering"
   ]
  },
  {
   "attachments": {},
   "cell_type": "markdown",
   "metadata": {},
   "source": [
    "### Selección de características"
   ]
  },
  {
   "cell_type": "code",
   "execution_count": 26,
   "metadata": {},
   "outputs": [],
   "source": [
    "#Se seleccionaron las caracteristicas solicitadas en el enunciado\n",
    "features=['Proyecto1','Proyecto2','Examen1','Tarea1']\n",
    "\n",
    "X=df[features]\n",
    "y=df['Resultado']"
   ]
  },
  {
   "attachments": {},
   "cell_type": "markdown",
   "metadata": {},
   "source": [
    "### Normalización de los datos"
   ]
  },
  {
   "cell_type": "code",
   "execution_count": 27,
   "metadata": {},
   "outputs": [
    {
     "data": {
      "text/html": [
       "<div>\n",
       "<style scoped>\n",
       "    .dataframe tbody tr th:only-of-type {\n",
       "        vertical-align: middle;\n",
       "    }\n",
       "\n",
       "    .dataframe tbody tr th {\n",
       "        vertical-align: top;\n",
       "    }\n",
       "\n",
       "    .dataframe thead th {\n",
       "        text-align: right;\n",
       "    }\n",
       "</style>\n",
       "<table border=\"1\" class=\"dataframe\">\n",
       "  <thead>\n",
       "    <tr style=\"text-align: right;\">\n",
       "      <th></th>\n",
       "      <th>Proyecto1</th>\n",
       "      <th>Proyecto2</th>\n",
       "      <th>Examen1</th>\n",
       "      <th>Tarea1</th>\n",
       "    </tr>\n",
       "  </thead>\n",
       "  <tbody>\n",
       "    <tr>\n",
       "      <th>0</th>\n",
       "      <td>1.0</td>\n",
       "      <td>1.00</td>\n",
       "      <td>0.616185</td>\n",
       "      <td>0.760</td>\n",
       "    </tr>\n",
       "    <tr>\n",
       "      <th>1</th>\n",
       "      <td>0.0</td>\n",
       "      <td>0.00</td>\n",
       "      <td>0.145665</td>\n",
       "      <td>0.000</td>\n",
       "    </tr>\n",
       "    <tr>\n",
       "      <th>2</th>\n",
       "      <td>1.0</td>\n",
       "      <td>0.45</td>\n",
       "      <td>0.573410</td>\n",
       "      <td>1.000</td>\n",
       "    </tr>\n",
       "    <tr>\n",
       "      <th>3</th>\n",
       "      <td>0.0</td>\n",
       "      <td>0.00</td>\n",
       "      <td>0.000000</td>\n",
       "      <td>0.000</td>\n",
       "    </tr>\n",
       "    <tr>\n",
       "      <th>4</th>\n",
       "      <td>1.0</td>\n",
       "      <td>1.00</td>\n",
       "      <td>0.712139</td>\n",
       "      <td>0.667</td>\n",
       "    </tr>\n",
       "  </tbody>\n",
       "</table>\n",
       "</div>"
      ],
      "text/plain": [
       "   Proyecto1  Proyecto2   Examen1  Tarea1\n",
       "0        1.0       1.00  0.616185   0.760\n",
       "1        0.0       0.00  0.145665   0.000\n",
       "2        1.0       0.45  0.573410   1.000\n",
       "3        0.0       0.00  0.000000   0.000\n",
       "4        1.0       1.00  0.712139   0.667"
      ]
     },
     "execution_count": 27,
     "metadata": {},
     "output_type": "execute_result"
    }
   ],
   "source": [
    "X = (X - X.min()) / (X.max() - X.min())\n",
    "X.head()"
   ]
  },
  {
   "attachments": {},
   "cell_type": "markdown",
   "metadata": {},
   "source": [
    "## Modelo de clasificación con K-Nearest Neighbors"
   ]
  },
  {
   "attachments": {},
   "cell_type": "markdown",
   "metadata": {},
   "source": [
    "### División del set de datos"
   ]
  },
  {
   "cell_type": "code",
   "execution_count": 28,
   "metadata": {},
   "outputs": [],
   "source": [
    "X_train,X_test,y_train,y_test=train_test_split(X.to_numpy(), y.to_numpy(), test_size=0.50, random_state=100)"
   ]
  },
  {
   "cell_type": "markdown",
   "metadata": {},
   "source": [
    "### Optimización de hiperparámetros"
   ]
  },
  {
   "cell_type": "code",
   "execution_count": 29,
   "metadata": {},
   "outputs": [],
   "source": [
    "def knn_objective(params):\n",
    "    n_neighbors = 2 * int(params['n_neighbors']) + 1\n",
    "    weights = params['weights']\n",
    "\n",
    "    our_knn_classifier = KNearestNeighbors(X_train, y_train, n_neighbors=n_neighbors, n_classes=2, weights=weights)\n",
    "    score = our_knn_classifier.score(X_test, y_test)\n",
    "\n",
    "    return {\n",
    "    'loss': -score, # Función de pérdida a minimizar\n",
    "    'status': STATUS_OK # Estatus de la evaluación (no se indefine, por lo que siempre será exitoso)\n",
    "    }"
   ]
  },
  {
   "cell_type": "code",
   "execution_count": 30,
   "metadata": {},
   "outputs": [
    {
     "name": "stdout",
     "output_type": "stream",
     "text": [
      "100%|██████████| 20/20 [00:00<00:00, 202.89trial/s, best loss: -0.9245283018867925]\n",
      "{'n_neighbors': [11.0], 'weights': [0]}\n"
     ]
    }
   ],
   "source": [
    "# Almacena el resultado de todas las evaluaciones de la función objetivo\n",
    "trials = Trials()\n",
    "\n",
    "# Espacio de búsqueda de hiperparámetros\n",
    "search_space = {\n",
    "    'n_neighbors': hp.quniform('n_neighbors', 1, 20, 1),\n",
    "    'weights': hp.choice('weights', ['uniform', 'distance'])\n",
    "}\n",
    "\n",
    "# Optimiza la precisión del modelo\n",
    "fmin(knn_objective,\n",
    "     search_space,\n",
    "     algo=tpe.suggest,\n",
    "     max_evals=20,\n",
    "     trials=trials)\n",
    "\n",
    "# Muestra los mejores hiperparámetros\n",
    "best = trials.best_trial['misc']['vals']\n",
    "print(best)"
   ]
  },
  {
   "cell_type": "markdown",
   "metadata": {},
   "source": [
    "### Entrenamiento del modelo"
   ]
  },
  {
   "cell_type": "code",
   "execution_count": 31,
   "metadata": {},
   "outputs": [],
   "source": [
    "n_neighbors = 2 * int(best['n_neighbors'][0]) + 1\n",
    "weights = 'uniform' if best['weights'][0] == 0 else 'distance'\n",
    "\n",
    "our_knn_classifier = KNearestNeighbors(X_train, y_train, n_neighbors=n_neighbors, n_classes=2, weights=weights)\n",
    "our_knn_y_pred = our_knn_classifier.predict(X_test)\n",
    "\n",
    "sklearn_knn_classifier = KNeighborsClassifier(n_neighbors=n_neighbors, weights=weights).fit(X_train, y_train)\n",
    "sklearn_knn_y_pred = sklearn_knn_classifier.predict(X_test)"
   ]
  },
  {
   "cell_type": "markdown",
   "metadata": {},
   "source": [
    "### Evaluación del modelo"
   ]
  },
  {
   "cell_type": "code",
   "execution_count": 32,
   "metadata": {},
   "outputs": [
    {
     "data": {
      "text/html": [
       "<div>\n",
       "<style scoped>\n",
       "    .dataframe tbody tr th:only-of-type {\n",
       "        vertical-align: middle;\n",
       "    }\n",
       "\n",
       "    .dataframe tbody tr th {\n",
       "        vertical-align: top;\n",
       "    }\n",
       "\n",
       "    .dataframe thead th {\n",
       "        text-align: right;\n",
       "    }\n",
       "</style>\n",
       "<table border=\"1\" class=\"dataframe\">\n",
       "  <thead>\n",
       "    <tr style=\"text-align: right;\">\n",
       "      <th></th>\n",
       "      <th>Our Implementation</th>\n",
       "      <th>Sklearn's Implementation</th>\n",
       "    </tr>\n",
       "  </thead>\n",
       "  <tbody>\n",
       "    <tr>\n",
       "      <th>Accuracy</th>\n",
       "      <td>0.924528</td>\n",
       "      <td>0.924528</td>\n",
       "    </tr>\n",
       "    <tr>\n",
       "      <th>Precision</th>\n",
       "      <td>0.931891</td>\n",
       "      <td>0.931891</td>\n",
       "    </tr>\n",
       "    <tr>\n",
       "      <th>Recall</th>\n",
       "      <td>0.924528</td>\n",
       "      <td>0.924528</td>\n",
       "    </tr>\n",
       "  </tbody>\n",
       "</table>\n",
       "</div>"
      ],
      "text/plain": [
       "           Our Implementation  Sklearn's Implementation\n",
       "Accuracy             0.924528                  0.924528\n",
       "Precision            0.931891                  0.931891\n",
       "Recall               0.924528                  0.924528"
      ]
     },
     "execution_count": 32,
     "metadata": {},
     "output_type": "execute_result"
    }
   ],
   "source": [
    "our_knn_metrics = get_metrics(y_test, our_knn_y_pred)\n",
    "sklearn_knn_metrics = get_metrics(y_test, sklearn_knn_y_pred)\n",
    "\n",
    "compare_metrics(our_knn_metrics, sklearn_knn_metrics)"
   ]
  },
  {
   "cell_type": "markdown",
   "metadata": {},
   "source": [
    "## Modelo de clasificación con Árboles de Decisión"
   ]
  },
  {
   "cell_type": "markdown",
   "metadata": {},
   "source": [
    "### División del set de datos"
   ]
  },
  {
   "cell_type": "code",
   "execution_count": 33,
   "metadata": {},
   "outputs": [],
   "source": [
    "X_train, X_test, y_train, y_test = train_test_split(X, y, test_size=0.50, random_state=100)"
   ]
  },
  {
   "cell_type": "markdown",
   "metadata": {},
   "source": [
    "### Optimización de hiperparámetros"
   ]
  },
  {
   "cell_type": "code",
   "execution_count": 34,
   "metadata": {},
   "outputs": [],
   "source": [
    "def cart_objective(params):\n",
    "    max_depth = int(params['max_depth'])\n",
    "\n",
    "    our_cart_classifier = DecisionTreeClassifier(max_depth=max_depth)\n",
    "    our_cart_classifier.fit(X_train, y_train)\n",
    "    \n",
    "    score = our_cart_classifier.score(X_test, y_test)\n",
    "\n",
    "    return {\n",
    "    'loss': -score, # Función de pérdida a minimizar\n",
    "    'status': STATUS_OK # Estatus de la evaluación (no se indefine, por lo que siempre será exitoso)\n",
    "    }"
   ]
  },
  {
   "cell_type": "code",
   "execution_count": 35,
   "metadata": {},
   "outputs": [
    {
     "name": "stdout",
     "output_type": "stream",
     "text": [
      "100%|██████████| 10/10 [00:02<00:00,  3.82trial/s, best loss: -0.8490566037735849]\n",
      "{'max_depth': [78.0]}\n"
     ]
    }
   ],
   "source": [
    "# Almacena el resultado de todas las evaluaciones de la función objetivo\n",
    "trials = Trials()\n",
    "\n",
    "# Espacio de búsqueda de hiperparámetros\n",
    "search_space = {'max_depth': hp.quniform('max_depth', 10, 300, 1)}\n",
    "\n",
    "# Optimiza la precisión del modelo\n",
    "fmin(cart_objective,\n",
    "     search_space,\n",
    "     algo=tpe.suggest,\n",
    "     max_evals=10,\n",
    "     trials=trials)\n",
    "\n",
    "# Muestra los mejores hiperparámetros\n",
    "best = trials.best_trial['misc']['vals']\n",
    "print(best)"
   ]
  },
  {
   "cell_type": "markdown",
   "metadata": {},
   "source": [
    "### Entrenamiento del modelo"
   ]
  },
  {
   "cell_type": "code",
   "execution_count": 36,
   "metadata": {},
   "outputs": [],
   "source": [
    "max_depth = int(best['max_depth'][0])\n",
    "\n",
    "our_cart_classifier = DecisionTreeClassifier(max_depth=max_depth)\n",
    "our_cart_classifier.fit(X_train, y_train)\n",
    "our_cart_y_pred = our_cart_classifier.predict(X_test)\n",
    "\n",
    "sklearn_cart_classifier = SklearnDecisionTreeClassifier(max_depth=max_depth)\n",
    "sklearn_cart_classifier.fit(X_train,y_train)\n",
    "sklearn_cart_classifier_y_pred = sklearn_cart_classifier.predict(X_test)"
   ]
  },
  {
   "cell_type": "markdown",
   "metadata": {},
   "source": [
    "### Evaluación del modelo"
   ]
  },
  {
   "cell_type": "code",
   "execution_count": 37,
   "metadata": {},
   "outputs": [
    {
     "data": {
      "text/html": [
       "<div>\n",
       "<style scoped>\n",
       "    .dataframe tbody tr th:only-of-type {\n",
       "        vertical-align: middle;\n",
       "    }\n",
       "\n",
       "    .dataframe tbody tr th {\n",
       "        vertical-align: top;\n",
       "    }\n",
       "\n",
       "    .dataframe thead th {\n",
       "        text-align: right;\n",
       "    }\n",
       "</style>\n",
       "<table border=\"1\" class=\"dataframe\">\n",
       "  <thead>\n",
       "    <tr style=\"text-align: right;\">\n",
       "      <th></th>\n",
       "      <th>Our Implementation</th>\n",
       "      <th>Sklearn's Implementation</th>\n",
       "    </tr>\n",
       "  </thead>\n",
       "  <tbody>\n",
       "    <tr>\n",
       "      <th>Accuracy</th>\n",
       "      <td>0.849057</td>\n",
       "      <td>0.849057</td>\n",
       "    </tr>\n",
       "    <tr>\n",
       "      <th>Precision</th>\n",
       "      <td>0.856304</td>\n",
       "      <td>0.849057</td>\n",
       "    </tr>\n",
       "    <tr>\n",
       "      <th>Recall</th>\n",
       "      <td>0.849057</td>\n",
       "      <td>0.849057</td>\n",
       "    </tr>\n",
       "  </tbody>\n",
       "</table>\n",
       "</div>"
      ],
      "text/plain": [
       "           Our Implementation  Sklearn's Implementation\n",
       "Accuracy             0.849057                  0.849057\n",
       "Precision            0.856304                  0.849057\n",
       "Recall               0.849057                  0.849057"
      ]
     },
     "execution_count": 37,
     "metadata": {},
     "output_type": "execute_result"
    }
   ],
   "source": [
    "our_cart_metrics = get_metrics(y_test, our_cart_y_pred)\n",
    "sklearn_cart_metrics = get_metrics(y_test, sklearn_cart_classifier_y_pred)\n",
    "\n",
    "compare_metrics(our_cart_metrics, sklearn_cart_metrics)"
   ]
  },
  {
   "cell_type": "markdown",
   "metadata": {},
   "source": [
    "## Modelo de clasificación con Regresión Logística"
   ]
  },
  {
   "cell_type": "markdown",
   "metadata": {},
   "source": [
    "### División del set de datos"
   ]
  },
  {
   "cell_type": "code",
   "execution_count": 38,
   "metadata": {},
   "outputs": [],
   "source": [
    "X_train, X_test, y_train, y_test = train_test_split(X, y, test_size=0.50, random_state=100)"
   ]
  },
  {
   "cell_type": "markdown",
   "metadata": {},
   "source": [
    "### Optimización de hiperparámetros"
   ]
  },
  {
   "cell_type": "code",
   "execution_count": 39,
   "metadata": {},
   "outputs": [],
   "source": [
    "def logit_objective(params):\n",
    "    lr = params['lr']\n",
    "    num_iter = int(params['num_iter'])\n",
    "    threshold = params['threshold']\n",
    "\n",
    "    our_logit_classifier = LogisticRegression(lr=lr, num_iter=num_iter)\n",
    "    our_logit_classifier.fit(X_train, y_train)\n",
    "    y_pred = our_logit_classifier.predict(X_test, threshold)\n",
    "    \n",
    "    score = our_logit_classifier.score(y_test, y_pred)\n",
    "\n",
    "    return {\n",
    "    'loss': -score, # Función de pérdida a minimizar\n",
    "    'status': STATUS_OK # Estatus de la evaluación (no se indefine, por lo que siempre será exitoso)\n",
    "    }"
   ]
  },
  {
   "cell_type": "code",
   "execution_count": 40,
   "metadata": {},
   "outputs": [
    {
     "name": "stdout",
     "output_type": "stream",
     "text": [
      "100%|██████████| 125/125 [00:44<00:00,  2.80trial/s, best loss: -0.9433962264150944]\n",
      "{'lr': [0.3554911209405314], 'num_iter': [2593.0], 'threshold': [0.3602958105895245]}\n"
     ]
    }
   ],
   "source": [
    "# Almacena el resultado de todas las evaluaciones de la función objetivo\n",
    "trials = Trials()\n",
    "\n",
    "# Espacio de búsqueda de hiperparámetros\n",
    "search_space = {'lr': hp.uniform('lr', 0.01, 1.0 ),\n",
    "                'num_iter': hp.quniform('num_iter', 1, 5000, 1),\n",
    "                'threshold': hp.uniform('threshold', 0.01, 1.0)}\n",
    "\n",
    "# Optimiza la precisión del modelo\n",
    "fmin(logit_objective,\n",
    "     search_space,\n",
    "     algo=tpe.suggest,\n",
    "     max_evals=125,\n",
    "     trials=trials)\n",
    "\n",
    "# Muestra los mejores hiperparámetros\n",
    "best = trials.best_trial['misc']['vals']\n",
    "print(best)"
   ]
  },
  {
   "cell_type": "markdown",
   "metadata": {},
   "source": [
    "### Entrenamiento del modelo"
   ]
  },
  {
   "cell_type": "code",
   "execution_count": 41,
   "metadata": {},
   "outputs": [],
   "source": [
    "lr = best['lr'][0]\n",
    "num_iter = int(best['num_iter'][0])\n",
    "threshold = best['threshold'][0]\n",
    "\n",
    "our_logit_classifier = LogisticRegression(lr=lr, num_iter=num_iter)\n",
    "our_logit_classifier.fit(X_train, y_train)\n",
    "our_logit_y_pred = our_logit_classifier.predict(X_test, threshold)\n",
    "\n",
    "sklearn_logit_classifier = SklearnLogisticRegression(max_iter=num_iter)\n",
    "sklearn_logit_classifier.fit(X_train, y_train)\n",
    "sklearn_logit_y_pred = sklearn_logit_classifier.predict(X_test)"
   ]
  },
  {
   "cell_type": "markdown",
   "metadata": {},
   "source": [
    "### Evaluación del modelo"
   ]
  },
  {
   "cell_type": "code",
   "execution_count": 42,
   "metadata": {},
   "outputs": [
    {
     "data": {
      "text/html": [
       "<div>\n",
       "<style scoped>\n",
       "    .dataframe tbody tr th:only-of-type {\n",
       "        vertical-align: middle;\n",
       "    }\n",
       "\n",
       "    .dataframe tbody tr th {\n",
       "        vertical-align: top;\n",
       "    }\n",
       "\n",
       "    .dataframe thead th {\n",
       "        text-align: right;\n",
       "    }\n",
       "</style>\n",
       "<table border=\"1\" class=\"dataframe\">\n",
       "  <thead>\n",
       "    <tr style=\"text-align: right;\">\n",
       "      <th></th>\n",
       "      <th>Our Implementation</th>\n",
       "      <th>Sklearn's Implementation</th>\n",
       "    </tr>\n",
       "  </thead>\n",
       "  <tbody>\n",
       "    <tr>\n",
       "      <th>Accuracy</th>\n",
       "      <td>0.943396</td>\n",
       "      <td>0.943396</td>\n",
       "    </tr>\n",
       "    <tr>\n",
       "      <th>Precision</th>\n",
       "      <td>0.947642</td>\n",
       "      <td>0.947642</td>\n",
       "    </tr>\n",
       "    <tr>\n",
       "      <th>Recall</th>\n",
       "      <td>0.943396</td>\n",
       "      <td>0.943396</td>\n",
       "    </tr>\n",
       "  </tbody>\n",
       "</table>\n",
       "</div>"
      ],
      "text/plain": [
       "           Our Implementation  Sklearn's Implementation\n",
       "Accuracy             0.943396                  0.943396\n",
       "Precision            0.947642                  0.947642\n",
       "Recall               0.943396                  0.943396"
      ]
     },
     "execution_count": 42,
     "metadata": {},
     "output_type": "execute_result"
    }
   ],
   "source": [
    "our_logit_metrics = get_metrics(y_test, our_logit_y_pred)\n",
    "sklearn_logit_metrics = get_metrics(y_test, sklearn_logit_y_pred)\n",
    "\n",
    "compare_metrics(our_logit_metrics, sklearn_logit_metrics)"
   ]
  },
  {
   "cell_type": "markdown",
   "metadata": {},
   "source": [
    "# Consumo de drogas según características de personalidad"
   ]
  },
  {
   "cell_type": "code",
   "execution_count": 43,
   "metadata": {},
   "outputs": [
    {
     "data": {
      "text/html": [
       "<div>\n",
       "<style scoped>\n",
       "    .dataframe tbody tr th:only-of-type {\n",
       "        vertical-align: middle;\n",
       "    }\n",
       "\n",
       "    .dataframe tbody tr th {\n",
       "        vertical-align: top;\n",
       "    }\n",
       "\n",
       "    .dataframe thead th {\n",
       "        text-align: right;\n",
       "    }\n",
       "</style>\n",
       "<table border=\"1\" class=\"dataframe\">\n",
       "  <thead>\n",
       "    <tr style=\"text-align: right;\">\n",
       "      <th></th>\n",
       "      <th>id</th>\n",
       "      <th>age</th>\n",
       "      <th>gender</th>\n",
       "      <th>education</th>\n",
       "      <th>country</th>\n",
       "      <th>ethnicity</th>\n",
       "      <th>Nscore</th>\n",
       "      <th>Escore</th>\n",
       "      <th>Oscore</th>\n",
       "      <th>Ascore</th>\n",
       "      <th>...</th>\n",
       "      <th>ecstacy</th>\n",
       "      <th>heroin</th>\n",
       "      <th>ketamine</th>\n",
       "      <th>legalh</th>\n",
       "      <th>lsd</th>\n",
       "      <th>meth</th>\n",
       "      <th>mushrooms</th>\n",
       "      <th>nicotine</th>\n",
       "      <th>semer</th>\n",
       "      <th>vsa</th>\n",
       "    </tr>\n",
       "  </thead>\n",
       "  <tbody>\n",
       "    <tr>\n",
       "      <th>0</th>\n",
       "      <td>1</td>\n",
       "      <td>0.49788</td>\n",
       "      <td>0.48246</td>\n",
       "      <td>-0.05921</td>\n",
       "      <td>0.96082</td>\n",
       "      <td>0.12600</td>\n",
       "      <td>0.31287</td>\n",
       "      <td>-0.57545</td>\n",
       "      <td>-0.58331</td>\n",
       "      <td>-0.91699</td>\n",
       "      <td>...</td>\n",
       "      <td>0</td>\n",
       "      <td>0</td>\n",
       "      <td>0</td>\n",
       "      <td>0</td>\n",
       "      <td>0</td>\n",
       "      <td>0</td>\n",
       "      <td>0</td>\n",
       "      <td>1</td>\n",
       "      <td>0</td>\n",
       "      <td>0</td>\n",
       "    </tr>\n",
       "    <tr>\n",
       "      <th>1</th>\n",
       "      <td>2</td>\n",
       "      <td>-0.07854</td>\n",
       "      <td>-0.48246</td>\n",
       "      <td>1.98437</td>\n",
       "      <td>0.96082</td>\n",
       "      <td>-0.31685</td>\n",
       "      <td>-0.67825</td>\n",
       "      <td>1.93886</td>\n",
       "      <td>1.43533</td>\n",
       "      <td>0.76096</td>\n",
       "      <td>...</td>\n",
       "      <td>1</td>\n",
       "      <td>0</td>\n",
       "      <td>1</td>\n",
       "      <td>0</td>\n",
       "      <td>1</td>\n",
       "      <td>1</td>\n",
       "      <td>0</td>\n",
       "      <td>1</td>\n",
       "      <td>0</td>\n",
       "      <td>0</td>\n",
       "    </tr>\n",
       "    <tr>\n",
       "      <th>2</th>\n",
       "      <td>3</td>\n",
       "      <td>0.49788</td>\n",
       "      <td>-0.48246</td>\n",
       "      <td>-0.05921</td>\n",
       "      <td>0.96082</td>\n",
       "      <td>-0.31685</td>\n",
       "      <td>-0.46725</td>\n",
       "      <td>0.80523</td>\n",
       "      <td>-0.84732</td>\n",
       "      <td>-1.62090</td>\n",
       "      <td>...</td>\n",
       "      <td>0</td>\n",
       "      <td>0</td>\n",
       "      <td>0</td>\n",
       "      <td>0</td>\n",
       "      <td>0</td>\n",
       "      <td>0</td>\n",
       "      <td>0</td>\n",
       "      <td>0</td>\n",
       "      <td>0</td>\n",
       "      <td>0</td>\n",
       "    </tr>\n",
       "    <tr>\n",
       "      <th>3</th>\n",
       "      <td>4</td>\n",
       "      <td>-0.95197</td>\n",
       "      <td>0.48246</td>\n",
       "      <td>1.16365</td>\n",
       "      <td>0.96082</td>\n",
       "      <td>-0.31685</td>\n",
       "      <td>-0.14882</td>\n",
       "      <td>-0.80615</td>\n",
       "      <td>-0.01928</td>\n",
       "      <td>0.59042</td>\n",
       "      <td>...</td>\n",
       "      <td>0</td>\n",
       "      <td>0</td>\n",
       "      <td>1</td>\n",
       "      <td>0</td>\n",
       "      <td>0</td>\n",
       "      <td>0</td>\n",
       "      <td>0</td>\n",
       "      <td>1</td>\n",
       "      <td>0</td>\n",
       "      <td>0</td>\n",
       "    </tr>\n",
       "    <tr>\n",
       "      <th>4</th>\n",
       "      <td>5</td>\n",
       "      <td>0.49788</td>\n",
       "      <td>0.48246</td>\n",
       "      <td>1.98437</td>\n",
       "      <td>0.96082</td>\n",
       "      <td>-0.31685</td>\n",
       "      <td>0.73545</td>\n",
       "      <td>-1.63340</td>\n",
       "      <td>-0.45174</td>\n",
       "      <td>-0.30172</td>\n",
       "      <td>...</td>\n",
       "      <td>0</td>\n",
       "      <td>0</td>\n",
       "      <td>0</td>\n",
       "      <td>0</td>\n",
       "      <td>0</td>\n",
       "      <td>0</td>\n",
       "      <td>1</td>\n",
       "      <td>1</td>\n",
       "      <td>0</td>\n",
       "      <td>0</td>\n",
       "    </tr>\n",
       "  </tbody>\n",
       "</table>\n",
       "<p>5 rows × 32 columns</p>\n",
       "</div>"
      ],
      "text/plain": [
       "   id      age   gender  education  country  ethnicity   Nscore   Escore  \\\n",
       "0   1  0.49788  0.48246   -0.05921  0.96082    0.12600  0.31287 -0.57545   \n",
       "1   2 -0.07854 -0.48246    1.98437  0.96082   -0.31685 -0.67825  1.93886   \n",
       "2   3  0.49788 -0.48246   -0.05921  0.96082   -0.31685 -0.46725  0.80523   \n",
       "3   4 -0.95197  0.48246    1.16365  0.96082   -0.31685 -0.14882 -0.80615   \n",
       "4   5  0.49788  0.48246    1.98437  0.96082   -0.31685  0.73545 -1.63340   \n",
       "\n",
       "    Oscore   Ascore  ...  ecstacy  heroin  ketamine  legalh  lsd  meth  \\\n",
       "0 -0.58331 -0.91699  ...        0       0         0       0    0     0   \n",
       "1  1.43533  0.76096  ...        1       0         1       0    1     1   \n",
       "2 -0.84732 -1.62090  ...        0       0         0       0    0     0   \n",
       "3 -0.01928  0.59042  ...        0       0         1       0    0     0   \n",
       "4 -0.45174 -0.30172  ...        0       0         0       0    0     0   \n",
       "\n",
       "   mushrooms  nicotine  semer  vsa  \n",
       "0          0         1      0    0  \n",
       "1          0         1      0    0  \n",
       "2          0         0      0    0  \n",
       "3          0         1      0    0  \n",
       "4          1         1      0    0  \n",
       "\n",
       "[5 rows x 32 columns]"
      ]
     },
     "execution_count": 43,
     "metadata": {},
     "output_type": "execute_result"
    }
   ],
   "source": [
    "df = pd.read_csv(\"./datasets/drug_consumption.csv\")\n",
    "df.head()"
   ]
  },
  {
   "cell_type": "markdown",
   "metadata": {},
   "source": [
    "## Feature Engineering"
   ]
  },
  {
   "attachments": {},
   "cell_type": "markdown",
   "metadata": {},
   "source": [
    "### Selección de características"
   ]
  },
  {
   "cell_type": "code",
   "execution_count": 46,
   "metadata": {},
   "outputs": [],
   "source": [
    "used_features = df[[\"age\", \"gender\", \"education\",\n",
    "                    \"Nscore\", \"Escore\", \"Oscore\",\n",
    "                    \"Ascore\", \"Cscore\", \"impulsiviness\", \"SS\"]]\n",
    "\n",
    "X = used_features\n",
    "# Se selecciona el tipo de droga que se quiere evaluar\n",
    "y = df.cannabis"
   ]
  },
  {
   "cell_type": "markdown",
   "metadata": {},
   "source": [
    "## Modelo de clasificación con K-Nearest Neighbors"
   ]
  },
  {
   "cell_type": "markdown",
   "metadata": {},
   "source": [
    "### División del set de datos"
   ]
  },
  {
   "cell_type": "code",
   "execution_count": 47,
   "metadata": {},
   "outputs": [],
   "source": [
    "X_train,X_test,y_train,y_test=train_test_split(X.to_numpy(), y.to_numpy(), test_size=0.20, random_state=100)"
   ]
  },
  {
   "cell_type": "markdown",
   "metadata": {},
   "source": [
    "### Optimización de hiperparámetros"
   ]
  },
  {
   "cell_type": "code",
   "execution_count": 48,
   "metadata": {},
   "outputs": [],
   "source": [
    "def knn_objective(params):\n",
    "    n_neighbors = 2 * int(params['n_neighbors']) + 1\n",
    "    weights = params['weights']\n",
    "\n",
    "    our_knn_classifier = KNearestNeighbors(X_train, y_train, n_neighbors=n_neighbors, n_classes=2, weights=weights)\n",
    "    score = our_knn_classifier.score(X_test, y_test)\n",
    "\n",
    "    return {\n",
    "    'loss': -score, # Función de pérdida a minimizar\n",
    "    'status': STATUS_OK # Estatus de la evaluación (no se indefine, por lo que siempre será exitoso)\n",
    "    }"
   ]
  },
  {
   "cell_type": "code",
   "execution_count": 49,
   "metadata": {},
   "outputs": [
    {
     "name": "stdout",
     "output_type": "stream",
     "text": [
      "100%|██████████| 150/150 [00:52<00:00,  2.83trial/s, best loss: -0.8010610079575596]\n",
      "{'n_neighbors': [73.0], 'weights': [0]}\n"
     ]
    }
   ],
   "source": [
    "# Almacena el resultado de todas las evaluaciones de la función objetivo\n",
    "trials = Trials()\n",
    "\n",
    "# Espacio de búsqueda de hiperparámetros\n",
    "search_space = {\n",
    "    'n_neighbors': hp.quniform('n_neighbors', 1, 150, 1),\n",
    "    'weights': hp.choice('weights', ['uniform', 'distance'])\n",
    "}\n",
    "\n",
    "# Optimiza la precisión del modelo\n",
    "fmin(knn_objective,\n",
    "     search_space,\n",
    "     algo=tpe.suggest,\n",
    "     max_evals=150,\n",
    "     trials=trials)\n",
    "\n",
    "# Muestra los mejores hiperparámetros\n",
    "best = trials.best_trial['misc']['vals']\n",
    "print(best)"
   ]
  },
  {
   "cell_type": "markdown",
   "metadata": {},
   "source": [
    "### Entrenamiento del modelo"
   ]
  },
  {
   "cell_type": "code",
   "execution_count": 50,
   "metadata": {},
   "outputs": [],
   "source": [
    "n_neighbors = 2 * int(best['n_neighbors'][0]) + 1\n",
    "weights = 'uniform' if best['weights'][0] == 0 else 'distance'\n",
    "\n",
    "our_knn_classifier = KNearestNeighbors(X_train, y_train, n_neighbors=n_neighbors, n_classes=2, weights=weights)\n",
    "our_knn_y_pred = our_knn_classifier.predict(X_test)\n",
    "\n",
    "sklearn_knn_classifier = KNeighborsClassifier(n_neighbors=n_neighbors, weights=weights).fit(X_train, y_train)\n",
    "sklearn_knn_y_pred = sklearn_knn_classifier.predict(X_test)"
   ]
  },
  {
   "cell_type": "markdown",
   "metadata": {},
   "source": [
    "### Evaluación del modelo"
   ]
  },
  {
   "cell_type": "code",
   "execution_count": 51,
   "metadata": {},
   "outputs": [
    {
     "data": {
      "text/html": [
       "<div>\n",
       "<style scoped>\n",
       "    .dataframe tbody tr th:only-of-type {\n",
       "        vertical-align: middle;\n",
       "    }\n",
       "\n",
       "    .dataframe tbody tr th {\n",
       "        vertical-align: top;\n",
       "    }\n",
       "\n",
       "    .dataframe thead th {\n",
       "        text-align: right;\n",
       "    }\n",
       "</style>\n",
       "<table border=\"1\" class=\"dataframe\">\n",
       "  <thead>\n",
       "    <tr style=\"text-align: right;\">\n",
       "      <th></th>\n",
       "      <th>Our Implementation</th>\n",
       "      <th>Sklearn's Implementation</th>\n",
       "    </tr>\n",
       "  </thead>\n",
       "  <tbody>\n",
       "    <tr>\n",
       "      <th>Accuracy</th>\n",
       "      <td>0.801061</td>\n",
       "      <td>0.801061</td>\n",
       "    </tr>\n",
       "    <tr>\n",
       "      <th>Precision</th>\n",
       "      <td>0.797654</td>\n",
       "      <td>0.797654</td>\n",
       "    </tr>\n",
       "    <tr>\n",
       "      <th>Recall</th>\n",
       "      <td>0.801061</td>\n",
       "      <td>0.801061</td>\n",
       "    </tr>\n",
       "  </tbody>\n",
       "</table>\n",
       "</div>"
      ],
      "text/plain": [
       "           Our Implementation  Sklearn's Implementation\n",
       "Accuracy             0.801061                  0.801061\n",
       "Precision            0.797654                  0.797654\n",
       "Recall               0.801061                  0.801061"
      ]
     },
     "execution_count": 51,
     "metadata": {},
     "output_type": "execute_result"
    }
   ],
   "source": [
    "our_knn_metrics = get_metrics(y_test, our_knn_y_pred)\n",
    "sklearn_knn_metrics = get_metrics(y_test, sklearn_knn_y_pred)\n",
    "\n",
    "compare_metrics(our_knn_metrics, sklearn_knn_metrics)"
   ]
  },
  {
   "cell_type": "markdown",
   "metadata": {},
   "source": [
    "## Modelo de clasificación con Árboles de Decisión"
   ]
  },
  {
   "cell_type": "markdown",
   "metadata": {},
   "source": [
    "### División del set de datos"
   ]
  },
  {
   "cell_type": "code",
   "execution_count": 63,
   "metadata": {},
   "outputs": [],
   "source": [
    "X_train, X_test, y_train, y_test = train_test_split(X, y, test_size=0.20, random_state=100)"
   ]
  },
  {
   "cell_type": "markdown",
   "metadata": {},
   "source": [
    "### Optimización de hiperparámetros"
   ]
  },
  {
   "cell_type": "code",
   "execution_count": 64,
   "metadata": {},
   "outputs": [],
   "source": [
    "def cart_objective(params):\n",
    "    max_depth = int(params['max_depth'])\n",
    "\n",
    "    our_cart_classifier = DecisionTreeClassifier(max_depth=max_depth)\n",
    "    our_cart_classifier.fit(X_train, y_train)\n",
    "    \n",
    "    score = our_cart_classifier.score(X_test, y_test)\n",
    "\n",
    "    return {\n",
    "    'loss': -score, # Función de pérdida a minimizar\n",
    "    'status': STATUS_OK # Estatus de la evaluación (no se indefine, por lo que siempre será exitoso)\n",
    "    }"
   ]
  },
  {
   "cell_type": "code",
   "execution_count": 65,
   "metadata": {},
   "outputs": [
    {
     "name": "stdout",
     "output_type": "stream",
     "text": [
      "100%|██████████| 12/12 [04:06<00:00, 20.56s/trial, best loss: -0.6896551724137931]\n",
      "{'max_depth': [283.0]}\n"
     ]
    }
   ],
   "source": [
    "# Almacena el resultado de todas las evaluaciones de la función objetivo\n",
    "trials = Trials()\n",
    "\n",
    "# Espacio de búsqueda de hiperparámetros\n",
    "search_space = {'max_depth': hp.quniform('max_depth', 10, 300, 1)}\n",
    "\n",
    "# Optimiza la precisión del modelo\n",
    "fmin(cart_objective,\n",
    "     search_space,\n",
    "     algo=tpe.suggest,\n",
    "     max_evals=12,\n",
    "     trials=trials)\n",
    "\n",
    "# Muestra los mejores hiperparámetros\n",
    "best = trials.best_trial['misc']['vals']\n",
    "print(best)"
   ]
  },
  {
   "cell_type": "markdown",
   "metadata": {},
   "source": [
    "### Entrenamiento del modelo"
   ]
  },
  {
   "cell_type": "code",
   "execution_count": 66,
   "metadata": {},
   "outputs": [],
   "source": [
    "max_depth = int(best['max_depth'][0])\n",
    "\n",
    "our_cart_classifier = DecisionTreeClassifier(max_depth=max_depth)\n",
    "our_cart_classifier.fit(X_train, y_train)\n",
    "our_cart_y_pred = our_cart_classifier.predict(X_test)\n",
    "\n",
    "sklearn_cart_classifier = SklearnDecisionTreeClassifier(max_depth=max_depth)\n",
    "sklearn_cart_classifier.fit(X_train,y_train)\n",
    "sklearn_cart_classifier_y_pred = sklearn_cart_classifier.predict(X_test)"
   ]
  },
  {
   "cell_type": "markdown",
   "metadata": {},
   "source": [
    "### Evaluación del modelo"
   ]
  },
  {
   "cell_type": "code",
   "execution_count": 67,
   "metadata": {},
   "outputs": [
    {
     "data": {
      "text/html": [
       "<div>\n",
       "<style scoped>\n",
       "    .dataframe tbody tr th:only-of-type {\n",
       "        vertical-align: middle;\n",
       "    }\n",
       "\n",
       "    .dataframe tbody tr th {\n",
       "        vertical-align: top;\n",
       "    }\n",
       "\n",
       "    .dataframe thead th {\n",
       "        text-align: right;\n",
       "    }\n",
       "</style>\n",
       "<table border=\"1\" class=\"dataframe\">\n",
       "  <thead>\n",
       "    <tr style=\"text-align: right;\">\n",
       "      <th></th>\n",
       "      <th>Our Implementation</th>\n",
       "      <th>Sklearn's Implementation</th>\n",
       "    </tr>\n",
       "  </thead>\n",
       "  <tbody>\n",
       "    <tr>\n",
       "      <th>Accuracy</th>\n",
       "      <td>0.689655</td>\n",
       "      <td>0.681698</td>\n",
       "    </tr>\n",
       "    <tr>\n",
       "      <th>Precision</th>\n",
       "      <td>0.700902</td>\n",
       "      <td>0.697269</td>\n",
       "    </tr>\n",
       "    <tr>\n",
       "      <th>Recall</th>\n",
       "      <td>0.689655</td>\n",
       "      <td>0.681698</td>\n",
       "    </tr>\n",
       "  </tbody>\n",
       "</table>\n",
       "</div>"
      ],
      "text/plain": [
       "           Our Implementation  Sklearn's Implementation\n",
       "Accuracy             0.689655                  0.681698\n",
       "Precision            0.700902                  0.697269\n",
       "Recall               0.689655                  0.681698"
      ]
     },
     "execution_count": 67,
     "metadata": {},
     "output_type": "execute_result"
    }
   ],
   "source": [
    "our_cart_metrics = get_metrics(y_test, our_cart_y_pred)\n",
    "sklearn_cart_metrics = get_metrics(y_test, sklearn_cart_classifier_y_pred)\n",
    "\n",
    "compare_metrics(our_cart_metrics, sklearn_cart_metrics)"
   ]
  },
  {
   "cell_type": "markdown",
   "metadata": {},
   "source": [
    "## Modelo de clasificación con Regresión Logística"
   ]
  },
  {
   "cell_type": "markdown",
   "metadata": {},
   "source": [
    "### División del set de datos"
   ]
  },
  {
   "cell_type": "code",
   "execution_count": 57,
   "metadata": {},
   "outputs": [],
   "source": [
    "X_train, X_test, y_train, y_test = train_test_split(X, y, test_size=0.20, random_state=100)"
   ]
  },
  {
   "cell_type": "markdown",
   "metadata": {},
   "source": [
    "### Optimización de hiperparámetros"
   ]
  },
  {
   "cell_type": "code",
   "execution_count": 58,
   "metadata": {},
   "outputs": [],
   "source": [
    "def logit_objective(params):\n",
    "    lr = params['lr']\n",
    "    num_iter = int(params['num_iter'])\n",
    "    threshold = params['threshold']\n",
    "\n",
    "    our_logit_classifier = LogisticRegression(lr=lr, num_iter=num_iter)\n",
    "    our_logit_classifier.fit(X_train, y_train)\n",
    "    y_pred = our_logit_classifier.predict(X_test, threshold)\n",
    "    \n",
    "    score = our_logit_classifier.score(y_test, y_pred)\n",
    "\n",
    "    return {\n",
    "    'loss': -score, # Función de pérdida a minimizar\n",
    "    'status': STATUS_OK # Estatus de la evaluación (no se indefine, por lo que siempre será exitoso)\n",
    "    }"
   ]
  },
  {
   "cell_type": "code",
   "execution_count": 59,
   "metadata": {},
   "outputs": [
    {
     "name": "stdout",
     "output_type": "stream",
     "text": [
      "100%|██████████| 125/125 [04:08<00:00,  1.99s/trial, best loss: -0.8037135278514589]\n",
      "{'lr': [0.451150802331397], 'num_iter': [2458.0], 'threshold': [0.40992823292974306]}\n"
     ]
    }
   ],
   "source": [
    "# Almacena el resultado de todas las evaluaciones de la función objetivo\n",
    "trials = Trials()\n",
    "\n",
    "# Espacio de búsqueda de hiperparámetros\n",
    "search_space = {'lr': hp.uniform('lr', 0.01, 1.0 ),\n",
    "                'num_iter': hp.quniform('num_iter', 1, 5000, 1),\n",
    "                'threshold': hp.uniform('threshold', 0.01, 1.0)}\n",
    "\n",
    "# Optimiza la precisión del modelo\n",
    "fmin(logit_objective,\n",
    "     search_space,\n",
    "     algo=tpe.suggest,\n",
    "     max_evals=125,\n",
    "     trials=trials)\n",
    "\n",
    "# Muestra los mejores hiperparámetros\n",
    "best = trials.best_trial['misc']['vals']\n",
    "print(best)"
   ]
  },
  {
   "cell_type": "markdown",
   "metadata": {},
   "source": [
    "### Entrenamiento del modelo"
   ]
  },
  {
   "cell_type": "code",
   "execution_count": 60,
   "metadata": {},
   "outputs": [],
   "source": [
    "lr = best['lr'][0]\n",
    "num_iter = int(best['num_iter'][0])\n",
    "threshold = best['threshold'][0]\n",
    "\n",
    "our_logit_classifier = LogisticRegression(lr=lr, num_iter=num_iter)\n",
    "our_logit_classifier.fit(X_train, y_train)\n",
    "our_logit_y_pred = our_logit_classifier.predict(X_test, threshold)\n",
    "\n",
    "sklearn_logit_classifier = SklearnLogisticRegression(max_iter=num_iter)\n",
    "sklearn_logit_classifier.fit(X_train, y_train)\n",
    "sklearn_logit_y_pred = sklearn_logit_classifier.predict(X_test)"
   ]
  },
  {
   "cell_type": "markdown",
   "metadata": {},
   "source": [
    "### Evaluación del modelo"
   ]
  },
  {
   "cell_type": "code",
   "execution_count": 61,
   "metadata": {},
   "outputs": [
    {
     "data": {
      "text/html": [
       "<div>\n",
       "<style scoped>\n",
       "    .dataframe tbody tr th:only-of-type {\n",
       "        vertical-align: middle;\n",
       "    }\n",
       "\n",
       "    .dataframe tbody tr th {\n",
       "        vertical-align: top;\n",
       "    }\n",
       "\n",
       "    .dataframe thead th {\n",
       "        text-align: right;\n",
       "    }\n",
       "</style>\n",
       "<table border=\"1\" class=\"dataframe\">\n",
       "  <thead>\n",
       "    <tr style=\"text-align: right;\">\n",
       "      <th></th>\n",
       "      <th>Our Implementation</th>\n",
       "      <th>Sklearn's Implementation</th>\n",
       "    </tr>\n",
       "  </thead>\n",
       "  <tbody>\n",
       "    <tr>\n",
       "      <th>Accuracy</th>\n",
       "      <td>0.803714</td>\n",
       "      <td>0.793103</td>\n",
       "    </tr>\n",
       "    <tr>\n",
       "      <th>Precision</th>\n",
       "      <td>0.798058</td>\n",
       "      <td>0.794070</td>\n",
       "    </tr>\n",
       "    <tr>\n",
       "      <th>Recall</th>\n",
       "      <td>0.803714</td>\n",
       "      <td>0.793103</td>\n",
       "    </tr>\n",
       "  </tbody>\n",
       "</table>\n",
       "</div>"
      ],
      "text/plain": [
       "           Our Implementation  Sklearn's Implementation\n",
       "Accuracy             0.803714                  0.793103\n",
       "Precision            0.798058                  0.794070\n",
       "Recall               0.803714                  0.793103"
      ]
     },
     "execution_count": 61,
     "metadata": {},
     "output_type": "execute_result"
    }
   ],
   "source": [
    "our_logit_metrics = get_metrics(y_test, our_logit_y_pred)\n",
    "sklearn_logit_metrics = get_metrics(y_test, sklearn_logit_y_pred)\n",
    "\n",
    "compare_metrics(our_logit_metrics, sklearn_logit_metrics)"
   ]
  }
 ],
 "metadata": {
  "kernelspec": {
   "display_name": "Python 3",
   "language": "python",
   "name": "python3"
  },
  "language_info": {
   "codemirror_mode": {
    "name": "ipython",
    "version": 3
   },
   "file_extension": ".py",
   "mimetype": "text/x-python",
   "name": "python",
   "nbconvert_exporter": "python",
   "pygments_lexer": "ipython3",
   "version": "3.10.10"
  },
  "orig_nbformat": 4
 },
 "nbformat": 4,
 "nbformat_minor": 2
}
